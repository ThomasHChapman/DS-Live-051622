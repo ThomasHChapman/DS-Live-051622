{
 "cells": [
  {
   "cell_type": "markdown",
   "metadata": {
    "heading_collapsed": true
   },
   "source": [
    "# Objectives"
   ]
  },
  {
   "cell_type": "markdown",
   "metadata": {
    "hidden": true
   },
   "source": [
    "* Describe the normal distribution's Empirical Rule\n",
    "* Calculate $z$-scores from a normal distribution through standardization\n",
    "* Define the Central Limit Theorem\n"
   ]
  },
  {
   "cell_type": "code",
   "execution_count": 1,
   "metadata": {
    "hidden": true
   },
   "outputs": [],
   "source": [
    "# Imports!\n",
    "from scipy import stats\n",
    "\n",
    "import matplotlib.pyplot as plt\n",
    "%matplotlib inline\n",
    "import seaborn as sns\n",
    "\n",
    "import pandas as pd\n",
    "import numpy as np"
   ]
  },
  {
   "cell_type": "markdown",
   "metadata": {
    "heading_collapsed": true
   },
   "source": [
    "# Normal Distribution"
   ]
  },
  {
   "cell_type": "markdown",
   "metadata": {
    "hidden": true
   },
   "source": [
    "We'll find that the **normal distribution** or **normal curve** or **bell curve** (it has many names) is a very common distribution and it's very useful to us in statistics."
   ]
  },
  {
   "cell_type": "markdown",
   "metadata": {
    "hidden": true
   },
   "source": [
    "![](images/normal_curve_animation.gif)"
   ]
  },
  {
   "cell_type": "markdown",
   "metadata": {
    "heading_collapsed": true,
    "hidden": true
   },
   "source": [
    "## Why a Normal Distribution?"
   ]
  },
  {
   "cell_type": "markdown",
   "metadata": {
    "hidden": true
   },
   "source": [
    "Turns out the normal distribution describes many phenomena. Think of anything that has a typical range:\n",
    "\n",
    "- human body temperatures\n",
    "- sizes of elephants\n",
    "- sizes of stars\n",
    "- populations of cities\n",
    "- IQ\n",
    "- heart rate"
   ]
  },
  {
   "cell_type": "markdown",
   "metadata": {
    "hidden": true
   },
   "source": [
    "Among human beings, 98.6 degrees Fahrenheit is an _average_ body temperature. Many folks' temperatures won't measure _exactly_ 98.6 degrees, but most measurements will be _close_. It is much more common to have a body temperature close to 98.6 (whether slightly more or slightly less) than it is to have a body temperature far from 98.6 (whether significantly more or significantly less). This is a hallmark of a normally distributed variable."
   ]
  },
  {
   "cell_type": "code",
   "execution_count": null,
   "metadata": {},
   "outputs": [],
   "source": [
    "N(0,1)\n",
    "# normal distribution with a mean of zero and a std deviation of 1.\n",
    "\n",
    "N(0,2)\n",
    "# normal distributions with a mean of zero and a std dev of 2."
   ]
  },
  {
   "cell_type": "code",
   "execution_count": null,
   "metadata": {},
   "outputs": [],
   "source": []
  },
  {
   "cell_type": "code",
   "execution_count": 4,
   "metadata": {},
   "outputs": [
    {
     "data": {
      "text/plain": [
       "array([-2.32634787, -2.27935095, -2.23235402, -2.18535709, -2.13836017,\n",
       "       -2.09136324, -2.04436631, -1.99736939, -1.95037246, -1.90337553,\n",
       "       -1.85637861, -1.80938168, -1.76238475, -1.71538783, -1.6683909 ,\n",
       "       -1.62139397, -1.57439705, -1.52740012, -1.48040319, -1.43340627,\n",
       "       -1.38640934, -1.33941241, -1.29241549, -1.24541856, -1.19842163,\n",
       "       -1.15142471, -1.10442778, -1.05743085, -1.01043393, -0.963437  ,\n",
       "       -0.91644007, -0.86944314, -0.82244622, -0.77544929, -0.72845236,\n",
       "       -0.68145544, -0.63445851, -0.58746158, -0.54046466, -0.49346773,\n",
       "       -0.4464708 , -0.39947388, -0.35247695, -0.30548002, -0.2584831 ,\n",
       "       -0.21148617, -0.16448924, -0.11749232, -0.07049539, -0.02349846,\n",
       "        0.02349846,  0.07049539,  0.11749232,  0.16448924,  0.21148617,\n",
       "        0.2584831 ,  0.30548002,  0.35247695,  0.39947388,  0.4464708 ,\n",
       "        0.49346773,  0.54046466,  0.58746158,  0.63445851,  0.68145544,\n",
       "        0.72845236,  0.77544929,  0.82244622,  0.86944314,  0.91644007,\n",
       "        0.963437  ,  1.01043393,  1.05743085,  1.10442778,  1.15142471,\n",
       "        1.19842163,  1.24541856,  1.29241549,  1.33941241,  1.38640934,\n",
       "        1.43340627,  1.48040319,  1.52740012,  1.57439705,  1.62139397,\n",
       "        1.6683909 ,  1.71538783,  1.76238475,  1.80938168,  1.85637861,\n",
       "        1.90337553,  1.95037246,  1.99736939,  2.04436631,  2.09136324,\n",
       "        2.13836017,  2.18535709,  2.23235402,  2.27935095,  2.32634787])"
      ]
     },
     "execution_count": 4,
     "metadata": {},
     "output_type": "execute_result"
    }
   ],
   "source": [
    "mu = 0\n",
    "sigma = 1\n",
    "x = np.linspace(\n",
    "        stats.norm(loc=mu, scale=sigma).ppf(0.01), # Start plotting here. ##ppf method asks for the nth percentile value.\n",
    "        stats.norm(loc=mu, scale=sigma).ppf(0.99), # End plotting here\n",
    "        100) # Number of points\n",
    "\n",
    "x"
   ]
  },
  {
   "cell_type": "code",
   "execution_count": 5,
   "metadata": {
    "hidden": true
   },
   "outputs": [
    {
     "data": {
      "image/png": "[encoded data removed]",
      "text/plain": [
       "<Figure size 432x288 with 1 Axes>"
      ]
     },
     "metadata": {
      "needs_background": "light"
     },
     "output_type": "display_data"
    }
   ],
   "source": [
    "# Visualize it\n",
    "fig, ax = plt.subplots()\n",
    "\n",
    "#fill in parameters\n",
    "mu = 0\n",
    "sigma = 1\n",
    "\n",
    "# This defines the points along the x-axis\n",
    "x = np.linspace(\n",
    "        stats.norm(loc=mu, scale=sigma).ppf(0.01), # Start plotting here. ##ppf method asks for the nth percentile value.\n",
    "        stats.norm(loc=mu, scale=sigma).ppf(0.99), # End plotting here\n",
    "        100                             # Number of points\n",
    ")\n",
    "# The values as at x given by the normal curve (with mu & sigma)\n",
    "y = stats.norm(loc=mu, scale=sigma).pdf(x) #want the pdf value at x.\n",
    "ax.plot(x, y,'r-');"
   ]
  },
  {
   "cell_type": "markdown",
   "metadata": {},
   "source": [
    "The Standard Normal Distribution, also known as a Gaussian distribution, is special not only because it shows up EVERYWHERE but also because it's symmetric (mean == median == mode)"
   ]
  },
  {
   "cell_type": "markdown",
   "metadata": {
    "hidden": true
   },
   "source": [
    "### Normal Curve\n",
    "\n",
    "If you're curious about how we can mathematically define a normal curve, we give this below. (Don't worry, you don't need to recall the mathematical definition).\n",
    "\n",
    "<details>\n",
    "\n",
    "$\\Large f(x) = \\frac{1}{\\sqrt{2\\pi\\sigma^2}}e^{\\frac{-(x - \\mu)^2}{2\\sigma^2}}$\n",
    "    \n",
    "This might look complicated at first, but it means that the we describe a normal curve with just **two parameters**: $\\sigma^2$ (the variance) & $\\mu$ (the mean). You may see the notation $N(\\mu, \\sigma^2)$ which emphasizes there are only two parameters to describe the distribution.\n",
    "</details>"
   ]
  },
  {
   "cell_type": "markdown",
   "metadata": {
    "hidden": true
   },
   "source": [
    "\n"
   ]
  },
  {
   "cell_type": "markdown",
   "metadata": {
    "heading_collapsed": true,
    "hidden": true
   },
   "source": [
    "## *Standard* Normal Distribution"
   ]
  },
  {
   "cell_type": "markdown",
   "metadata": {
    "hidden": true
   },
   "source": [
    "A special normal distribution called the **standard normal distribution** has a mean of 0 and variance of 1. This is also known as a **z distribution**."
   ]
  },
  {
   "cell_type": "markdown",
   "metadata": {
    "hidden": true
   },
   "source": [
    "Since we know that the shape of a normal distribution changes based on its mean and variance, we'll typically convert or **standardize** our normal distribution to the standard normal distribution."
   ]
  },
  {
   "cell_type": "markdown",
   "metadata": {
    "hidden": true
   },
   "source": [
    "We simply subtract the mean $\\mu$ from each value and then divide by the standard deviation $\\sigma$:\n",
    "\n",
    "$$\\frac{x - \\mu}{\\sigma}$$\n",
    "\n",
    "We call this process **standardization**."
   ]
  },
  {
   "cell_type": "markdown",
   "metadata": {
    "hidden": true
   },
   "source": [
    "![norm_to_z](images/norm_to_z.png)"
   ]
  },
  {
   "cell_type": "code",
   "execution_count": 21,
   "metadata": {
    "hidden": true,
    "scrolled": false
   },
   "outputs": [
    {
     "data": {
      "text/plain": [
       "5.062193389429864"
      ]
     },
     "execution_count": 21,
     "metadata": {},
     "output_type": "execute_result"
    }
   ],
   "source": [
    "# Let's transform the normal distribution centered on 5\n",
    "# with a standard deviation of 2 into a standard normal\n",
    "\n",
    "mu = 5\n",
    "sigma = 2\n",
    "\n",
    "\n",
    "# Generating our data\n",
    "normal_dist = np.random.normal(loc=5, scale=2, size=1000)\n",
    "\n",
    "np.mean(normal_dist)"
   ]
  },
  {
   "cell_type": "code",
   "execution_count": 22,
   "metadata": {},
   "outputs": [
    {
     "data": {
      "text/plain": [
       "array([ 2.51227989e+00,  5.42132898e+00,  2.78394254e+00,  9.24652946e+00,\n",
       "        1.54729941e+00,  3.69604349e+00,  7.51370719e+00,  3.92920285e+00,\n",
       "        7.32690451e+00,  5.12101087e+00,  5.83585450e+00,  5.69750886e+00,\n",
       "        4.65324113e+00,  6.79598744e+00,  5.84252954e+00,  2.32967722e+00,\n",
       "        6.48748080e+00,  4.29889373e+00,  2.16836729e+00,  8.02947238e+00,\n",
       "        4.84309316e+00,  3.69240710e+00,  5.26179499e+00,  7.05683840e+00,\n",
       "        7.30470276e+00,  2.86867131e+00,  4.06444661e+00,  5.71231947e+00,\n",
       "        4.25828975e+00,  6.24320598e+00,  1.89501132e+00,  1.19542666e+00,\n",
       "        6.87245934e+00,  3.41834294e+00,  2.81879250e+00,  5.02327760e+00,\n",
       "        9.81272089e+00,  6.10784263e+00,  5.03420506e+00,  4.51515037e+00,\n",
       "        3.18129606e+00,  4.68459522e+00,  3.80553567e+00,  4.47284081e+00,\n",
       "        9.65198730e+00,  2.27941743e+00,  5.53596665e+00,  6.09170632e+00,\n",
       "        7.00749506e+00,  5.78756948e+00,  4.88681110e+00,  4.39633988e+00,\n",
       "        5.05638460e+00,  7.50767651e+00,  2.55299887e+00,  5.47499450e+00,\n",
       "        6.85098710e+00,  8.43731517e+00,  8.33411022e+00,  7.80116341e+00,\n",
       "        9.91099037e+00,  4.89133183e+00,  7.71238987e+00,  5.93437796e+00,\n",
       "        5.91752559e+00,  4.64568552e+00,  5.11446799e+00,  3.00778546e+00,\n",
       "        3.79550522e+00,  8.42564016e+00,  3.53637960e+00,  3.93480995e+00,\n",
       "        2.88905070e+00,  3.03146559e+00,  4.26927294e+00,  4.94556052e+00,\n",
       "        3.59306502e+00,  5.46214073e+00,  7.19775635e+00,  4.77771690e+00,\n",
       "        5.35309933e+00,  7.53868102e+00,  4.00429191e+00,  5.25738672e+00,\n",
       "        8.04106881e+00,  4.26353343e+00,  3.25249090e+00,  4.05730665e+00,\n",
       "        6.46316133e+00,  2.21181853e+00,  6.62815483e+00,  5.17395880e+00,\n",
       "        8.03272663e+00,  3.08388478e+00,  5.94951733e+00,  5.96681096e+00,\n",
       "        2.05936509e+00,  4.66080731e+00,  6.46430454e+00,  4.37997832e+00,\n",
       "        2.84524852e+00,  8.45701897e+00,  6.04654998e+00,  5.59600223e+00,\n",
       "        6.31411597e+00,  5.96519372e+00,  5.79012180e+00,  2.69541560e+00,\n",
       "        6.06569381e+00,  8.45981942e+00,  5.36436450e+00,  6.88065929e+00,\n",
       "        3.70881807e+00,  4.38393093e+00,  6.04441356e+00, -2.60203039e-01,\n",
       "        5.61656033e+00,  6.40456952e-01,  6.76512221e+00,  3.61981220e+00,\n",
       "        5.90691581e+00,  2.87690175e+00,  5.42641725e+00,  3.32289849e+00,\n",
       "        4.79005756e+00,  4.22962343e+00,  7.43139393e+00,  6.70062096e+00,\n",
       "        4.79810773e+00,  6.31483443e+00,  4.08720772e+00,  7.21717178e+00,\n",
       "        3.71804154e+00,  5.45407687e+00,  3.88412647e+00,  2.03919974e+00,\n",
       "        5.06246636e+00,  5.47459023e+00,  4.97823935e+00,  6.82218075e+00,\n",
       "        4.09166722e+00,  3.53269107e+00,  6.41268188e+00,  4.61007918e+00,\n",
       "        3.44777040e+00,  4.04871191e+00,  3.87827308e+00,  4.16867102e+00,\n",
       "        3.95878826e+00,  3.60080345e+00,  2.81537395e+00,  1.02173457e-02,\n",
       "        4.22593649e+00,  4.10904232e+00,  3.69605540e+00,  4.93312741e+00,\n",
       "        5.44284662e+00,  2.76733885e+00,  4.03800705e+00,  3.32859259e+00,\n",
       "        2.85275241e+00,  7.29650985e+00,  3.66428308e+00,  6.34357171e+00,\n",
       "        8.47535264e+00,  4.74708760e+00,  5.21523734e+00,  2.46977589e+00,\n",
       "        6.44533184e+00,  6.17381596e+00,  4.88449912e+00,  3.62804286e+00,\n",
       "        5.51449715e+00,  7.39684035e+00,  8.08779986e+00,  7.15827898e+00,\n",
       "        5.13529654e+00,  6.91393832e+00,  5.41829452e+00,  5.76851215e+00,\n",
       "        8.71532601e+00,  2.35481284e+00,  7.69033547e+00,  3.54606921e+00,\n",
       "        1.44869987e+00,  5.36680266e+00,  2.57168462e+00,  3.72543855e+00,\n",
       "        4.32591723e+00,  2.55472807e+00,  3.61954858e+00,  4.92282165e+00,\n",
       "        5.98684145e+00,  3.57031235e+00,  5.73118957e+00,  6.72316034e+00,\n",
       "        6.68878838e+00,  4.25905877e+00,  6.18086450e+00,  7.19903528e+00,\n",
       "        3.96756526e-01,  6.20310943e+00,  4.52034711e+00,  6.74190766e+00,\n",
       "        5.39959442e+00,  6.15989242e+00,  8.26859432e+00,  2.75675234e+00,\n",
       "        3.99320085e+00,  5.74327541e+00,  2.67509513e+00,  5.53144603e+00,\n",
       "        6.05277820e+00,  6.13956720e+00,  4.05091190e+00,  5.79829307e+00,\n",
       "        2.62999895e+00,  4.63865094e+00,  6.04893692e+00,  4.41906426e+00,\n",
       "        6.55961818e+00,  6.40718832e+00,  3.69612335e+00,  7.51607197e+00,\n",
       "        2.79308145e+00,  1.03976887e+00,  3.33459327e+00,  5.05184333e+00,\n",
       "        5.31577406e+00,  3.44652473e+00,  6.64500087e+00,  5.68374726e+00,\n",
       "        4.26958452e+00,  4.67221264e+00,  6.89319111e+00,  7.22469540e+00,\n",
       "        3.03605065e+00,  6.30596819e+00,  6.46136633e+00,  4.78664812e+00,\n",
       "        3.75358139e+00,  4.10330370e-01,  4.36905893e+00,  5.87915936e+00,\n",
       "        2.11533336e+00,  1.92378980e+00,  4.20237345e+00,  4.37668362e+00,\n",
       "        2.73938175e+00,  5.06388760e+00,  4.70609344e+00,  9.39819792e+00,\n",
       "        4.59663141e+00,  5.79439632e+00,  4.93235998e+00,  5.22269325e+00,\n",
       "        5.68794214e+00,  2.28648855e+00,  5.88717966e+00,  6.03294667e+00,\n",
       "        8.48767130e+00,  4.75824874e+00,  8.23322025e+00,  5.40808816e+00,\n",
       "        2.97383209e+00,  6.99958897e+00,  6.04358339e+00,  6.27769112e+00,\n",
       "        1.83126763e+00,  1.77248527e+00,  4.22549115e+00,  6.43541661e+00,\n",
       "        4.79577081e+00,  3.39924263e+00,  5.33473029e+00,  6.20530594e+00,\n",
       "        7.78540533e+00,  5.02023383e+00,  1.34402724e+00,  3.87561001e+00,\n",
       "        5.41996014e+00,  3.64201936e+00,  5.77302212e+00,  6.76417556e+00,\n",
       "        1.05664374e+01,  5.36363573e+00,  4.24808990e+00,  6.75059246e+00,\n",
       "        3.75517709e+00,  6.14628205e+00,  9.54242757e+00,  5.57849191e+00,\n",
       "        3.41923124e+00,  3.49653395e+00,  3.27011396e+00,  2.05930018e+00,\n",
       "        6.32136681e+00,  4.68503312e+00,  6.86868171e+00,  4.43091464e+00,\n",
       "        4.89970812e+00,  7.85418024e+00,  1.00867451e+01,  4.44923737e+00,\n",
       "        2.49197450e+00,  3.92875743e+00,  7.06372069e+00,  5.75900951e+00,\n",
       "       -2.26531054e-03,  1.01291123e+01,  7.56907379e+00,  1.92215638e+00,\n",
       "        6.68706588e+00,  4.65087711e+00,  5.42921651e+00,  1.07039964e+01,\n",
       "        5.04150531e-01,  3.59975536e+00,  6.76722320e+00,  6.58246992e+00,\n",
       "        3.75828326e+00,  3.95251867e+00,  5.41788986e+00,  6.21458357e+00,\n",
       "        6.01417731e+00,  3.83419200e+00,  1.02293901e+01,  4.43196583e+00,\n",
       "        3.22957158e+00,  3.53688028e+00,  1.44654595e+00,  2.52241559e+00,\n",
       "        7.64372924e+00,  4.69558535e+00,  6.65457871e+00,  3.32166393e+00,\n",
       "        3.27193136e+00,  5.67747828e+00,  3.91857667e+00,  2.79456704e+00,\n",
       "        4.12688018e+00,  6.41355445e+00,  5.30481927e+00,  5.52275943e+00,\n",
       "        7.61049364e+00,  2.99585961e+00,  3.95589963e+00,  2.29698197e+00,\n",
       "        8.03302747e+00,  6.07148328e+00,  5.13354156e+00,  3.16636127e+00,\n",
       "        6.67350790e+00,  2.74374717e+00,  5.35295408e+00,  4.09117697e+00,\n",
       "        3.68965995e+00,  6.84827231e+00,  2.10355254e+00,  5.78989642e+00,\n",
       "        6.72498489e+00,  6.52445470e+00,  5.26015096e+00,  8.17045801e+00,\n",
       "        6.12579376e+00,  1.47436934e+00,  5.17189059e+00,  5.47697708e+00,\n",
       "        1.10472385e+00,  5.32395328e+00,  3.87219833e+00,  7.37492332e+00,\n",
       "        4.51648406e+00,  1.98145064e+00,  9.30004687e+00,  8.44542791e+00,\n",
       "        7.59506930e+00,  7.54021390e+00,  3.43277002e+00,  3.63918215e+00,\n",
       "        7.23288616e+00,  4.46421268e+00,  6.24018443e+00,  6.64396249e+00,\n",
       "        7.20891151e+00,  6.08758341e+00,  4.21901357e+00,  7.68384602e+00,\n",
       "        5.48977530e+00,  5.36303433e+00,  3.68048803e+00,  5.40616067e+00,\n",
       "        1.68340473e+00,  7.12162870e+00,  4.13841737e+00,  4.13300649e+00,\n",
       "        5.51265345e+00,  2.34157650e+00,  4.48789957e+00,  1.11922900e-01,\n",
       "        5.65298949e+00,  2.95879364e+00,  1.89277186e+00,  7.72713666e+00,\n",
       "        3.97747789e+00,  5.84318019e+00,  5.35732102e+00,  5.03140322e+00,\n",
       "        7.01689287e+00,  5.59289070e+00,  4.71367225e+00,  6.07273724e+00,\n",
       "        4.34983962e+00,  5.83902381e+00,  4.96972529e+00,  6.91462314e+00,\n",
       "        3.24604208e+00,  1.58279194e+00,  6.89229394e+00,  4.70589431e+00,\n",
       "        6.25979411e+00,  2.47522488e+00,  7.85574703e+00,  1.17407624e+00,\n",
       "        4.16726139e+00,  5.04788018e+00,  5.52692152e+00,  4.93301453e+00,\n",
       "        6.83730902e+00,  6.49233698e+00,  7.97646856e+00,  4.12080252e+00,\n",
       "        4.26847515e+00,  3.41603842e+00,  7.27170474e+00,  5.59358208e+00,\n",
       "        3.84939012e+00,  7.69600431e+00,  3.35984793e+00,  4.28413045e+00,\n",
       "        7.30372035e+00,  3.74982084e+00,  2.97154972e+00,  6.33064608e+00,\n",
       "        4.49209300e+00,  2.75062710e+00,  4.05029780e+00,  5.06114985e+00,\n",
       "        4.25636824e+00,  5.67598033e+00,  5.81408406e+00,  5.52117129e+00,\n",
       "        5.74594162e+00,  3.91453556e+00,  4.75765187e+00,  7.85960419e+00,\n",
       "        7.54590483e+00,  7.26528867e+00,  3.61689032e+00,  1.25306356e+00,\n",
       "        3.42163834e+00,  6.29159182e+00,  6.23134651e+00,  5.47805597e+00,\n",
       "        3.22547909e+00,  4.49393747e+00,  7.92284783e+00,  2.32262017e+00,\n",
       "        3.74912208e+00,  5.77059057e+00,  6.16272668e+00,  4.66586745e+00,\n",
       "        5.06345023e+00,  8.87213856e+00,  5.38364936e+00,  5.05054973e+00,\n",
       "        3.49055980e+00,  1.86452039e+00,  6.30446560e+00,  6.01969119e+00,\n",
       "        8.47460557e+00,  3.73330077e+00,  7.15307003e+00,  4.34917087e+00,\n",
       "        7.05128405e+00,  3.40270077e+00,  4.11474113e+00,  4.91734374e+00,\n",
       "        4.72174296e+00,  7.31526521e+00,  3.46616792e+00,  9.06696042e+00,\n",
       "        6.28595187e+00,  5.11669696e+00,  2.34861902e+00,  7.82675495e+00,\n",
       "        4.33992050e+00,  4.54024042e+00,  6.41925213e+00,  5.76514278e+00,\n",
       "        6.09708873e+00,  4.07786579e+00,  2.42231971e+00,  6.73765859e+00,\n",
       "        6.52120548e+00,  6.41708597e+00,  4.65319148e+00, -5.95690231e-01,\n",
       "        4.47900662e+00,  5.82534290e+00,  6.29073616e+00,  9.61476398e+00,\n",
       "        4.73977828e+00,  8.30616974e+00,  4.71586324e+00,  1.39200903e+00,\n",
       "        3.51357739e+00,  4.59742122e+00,  6.95658175e+00,  6.71741199e+00,\n",
       "        4.47080269e+00,  6.04622351e+00,  5.26032340e+00,  7.69381180e+00,\n",
       "        6.91364229e+00,  5.54050636e+00,  4.37797818e-01,  2.60850677e+00,\n",
       "        7.50059189e+00,  4.88872880e+00,  4.64319496e+00,  5.19926218e+00,\n",
       "        6.03094160e+00,  5.48128016e+00,  4.80414228e+00,  8.04845401e+00,\n",
       "        5.34989454e+00,  5.79395799e+00,  4.48793560e+00,  6.73503537e+00,\n",
       "        3.62762481e+00,  2.42122493e+00,  1.06623364e+00,  7.52035994e+00,\n",
       "        4.80868660e+00,  8.94138862e+00,  6.79727009e+00,  5.38681702e+00,\n",
       "        5.62070529e+00,  4.94283713e+00,  1.64453292e+00,  3.74462951e+00,\n",
       "        4.89046106e+00,  5.16400307e+00,  8.72254363e+00,  4.59337782e+00,\n",
       "        4.60280176e+00,  6.64667515e+00,  6.33721859e+00,  6.42017952e+00,\n",
       "        3.43444111e+00,  2.47940515e+00,  7.36014953e+00,  6.95166422e+00,\n",
       "        5.51302155e+00,  3.93843989e+00,  5.45826226e+00,  1.97054587e+00,\n",
       "        1.03505074e+01,  3.46091260e+00,  8.80250869e+00,  5.53212703e+00,\n",
       "        9.08723922e+00,  2.31612091e+00,  4.94232509e+00,  7.22510443e+00,\n",
       "        6.15753534e+00,  1.73126801e+00,  3.88678831e+00,  4.10312129e+00,\n",
       "        6.23869257e+00,  8.84557353e+00,  4.32318759e+00,  3.06047383e+00,\n",
       "        7.30202467e+00,  1.12536481e+00,  5.06473075e+00,  6.91975026e+00,\n",
       "        9.60204985e+00,  4.63212523e+00,  5.43648868e+00,  6.78746649e+00,\n",
       "        2.32019914e+00,  4.67548998e+00,  1.01231704e+01,  4.77402740e+00,\n",
       "        5.06920032e+00,  3.62949248e+00,  5.85663707e+00,  3.26567589e+00,\n",
       "        4.49858523e+00,  3.79067980e+00,  6.00924847e+00,  3.84774995e+00,\n",
       "        4.04553894e+00,  5.19207356e+00,  1.47913022e+00,  7.08117944e+00,\n",
       "        9.92653513e+00,  5.47525773e+00,  3.69097067e+00,  4.89824616e+00,\n",
       "        3.57838005e+00,  3.65647634e+00,  5.74978084e+00,  1.14671468e+00,\n",
       "        4.06224184e+00,  6.88720490e+00,  6.28620624e+00,  7.71026727e+00,\n",
       "        6.96218494e+00,  2.96607366e+00,  5.29106884e+00,  6.25636279e+00,\n",
       "        5.31406395e+00,  7.57922002e+00,  6.32941599e+00,  8.49321583e+00,\n",
       "        1.09002253e+00,  2.51891191e+00,  3.40642625e+00,  2.46759442e+00,\n",
       "        4.57679100e+00,  2.74695224e+00,  4.06167528e+00,  2.65500021e+00,\n",
       "        4.29190597e+00,  5.78774097e+00,  3.26672381e+00,  3.63499351e+00,\n",
       "        5.14041425e+00,  5.07207077e+00,  6.16900934e+00,  2.69144619e+00,\n",
       "        2.91653213e+00,  6.25120475e+00,  6.50880324e+00,  4.60411831e+00,\n",
       "        3.95556030e+00,  5.37171524e+00,  4.49955543e+00,  2.60905636e+00,\n",
       "        5.96250701e+00,  9.28598195e+00,  3.92378697e+00,  2.92937848e+00,\n",
       "        7.14848815e+00,  3.56739946e+00,  4.73461953e+00,  3.47875240e+00,\n",
       "        4.63434729e+00,  5.10982247e+00,  6.45603988e+00,  5.27680338e+00,\n",
       "        7.35714440e+00,  7.36445956e+00,  7.97142770e+00,  5.22800195e+00,\n",
       "        2.80879939e+00,  5.05989141e+00,  3.72300418e+00,  5.96862292e+00,\n",
       "        2.22084911e+00,  7.48168201e+00,  6.57187660e+00,  5.22472053e+00,\n",
       "        7.36783182e+00,  5.46073216e+00,  6.13056975e+00,  5.93177078e+00,\n",
       "        8.64678393e+00,  7.52027999e+00,  3.71731866e+00,  2.74354970e+00,\n",
       "        5.16351791e+00,  2.57570881e+00,  4.71867728e+00,  3.62351956e+00,\n",
       "        6.09721067e+00,  6.80961520e+00,  6.63363674e+00,  4.73647422e+00,\n",
       "        6.54155515e+00,  5.60392501e+00,  2.01761848e+00,  5.56720232e+00,\n",
       "        6.33241182e+00,  7.49485714e+00,  4.23432068e+00,  2.44221550e+00,\n",
       "        4.33227905e+00,  6.04480335e+00,  4.76953479e+00,  7.09315763e+00,\n",
       "        8.19492705e+00,  3.76228474e+00,  7.68007247e+00,  6.59256211e+00,\n",
       "        4.77659541e+00,  6.01440180e+00,  4.33077822e+00,  5.71804873e+00,\n",
       "        6.98325741e+00,  5.80395779e+00,  4.12439379e+00,  4.98314937e+00,\n",
       "        5.16261158e+00,  7.44024598e+00,  3.30483943e+00,  9.22602208e+00,\n",
       "        6.06444382e+00,  1.66154665e+00,  3.09745209e+00,  2.05547278e+00,\n",
       "        1.42143750e+00,  1.03280119e+01,  3.65974721e+00,  4.58451480e+00,\n",
       "        5.20779607e+00,  3.97049052e+00,  3.62311340e+00,  8.14131097e+00,\n",
       "        4.26046804e+00,  2.67057155e+00,  4.00461740e+00,  2.13986718e+00,\n",
       "        5.18968739e+00,  3.45470963e+00,  3.59860494e+00,  3.05244650e+00,\n",
       "        5.67157215e+00,  5.29598972e+00,  3.61880469e+00,  7.46480366e+00,\n",
       "        8.37600755e-01,  8.62934092e+00,  2.74427107e+00,  7.70380996e+00,\n",
       "        5.06029343e+00,  5.45137271e+00,  5.35665114e+00,  6.73748561e+00,\n",
       "        3.83228553e+00,  6.42186246e+00,  1.51679688e+00,  5.79456776e+00,\n",
       "        3.05254461e-01,  7.98957621e+00,  4.82406635e+00,  5.64025394e+00,\n",
       "        6.03887723e+00,  4.15877347e+00,  3.52137335e+00,  3.42770100e+00,\n",
       "        7.56504729e+00,  5.68312832e+00,  6.04552411e+00,  5.33575948e+00,\n",
       "        1.80134676e+00,  7.05433504e+00,  3.19995008e+00,  3.04518142e+00,\n",
       "        7.51020712e+00,  5.01891421e+00,  4.22597338e+00,  6.10376805e+00,\n",
       "        5.30030732e+00,  3.94406946e+00,  6.25356170e+00,  5.35590726e+00,\n",
       "        3.58091615e+00,  5.53026697e+00,  4.54142745e+00,  5.55705396e+00,\n",
       "        4.46991201e+00,  2.17340471e+00,  4.91154223e+00,  6.19626666e+00,\n",
       "        6.50712426e+00,  1.68121951e+00,  1.68141180e+00, -8.59378839e-01,\n",
       "        3.98155201e+00,  7.82841327e+00,  1.11250037e+00,  5.15027847e+00,\n",
       "        3.94451399e+00,  6.30058518e+00,  6.82003316e+00,  9.23577237e+00,\n",
       "        3.06508112e+00,  5.84914740e+00,  5.80193221e+00,  5.01775180e+00,\n",
       "        6.45743841e+00,  5.12414564e+00,  6.14830250e+00,  6.51840424e+00,\n",
       "        8.33028086e+00,  4.65803075e+00,  2.64785444e+00,  6.54062133e+00,\n",
       "        4.95839756e+00,  8.34640743e-01,  4.76538753e+00,  6.15956434e+00,\n",
       "        4.91232994e+00,  5.15951947e+00,  6.52238663e+00,  5.00621382e+00,\n",
       "        6.65439403e+00,  4.31201702e+00,  4.92710491e+00,  6.66106459e+00,\n",
       "        3.88815490e+00,  1.92233034e+00,  5.37841049e+00,  4.14897413e+00,\n",
       "        6.13423692e+00,  5.38142045e+00,  6.63102965e+00,  6.18370794e+00,\n",
       "        1.01016827e+00,  6.10078954e+00,  2.95774084e+00,  5.45186674e+00,\n",
       "        6.38302867e+00,  5.78763751e+00,  5.53442860e+00,  6.91278891e+00,\n",
       "        3.01237304e+00,  8.95044986e-01,  5.28741809e+00,  1.24682302e+00,\n",
       "        5.61770339e+00,  7.76890418e+00,  3.93712299e+00,  7.46652967e+00,\n",
       "        5.05138368e+00,  2.70947911e-01,  4.91365311e+00,  4.94532673e+00,\n",
       "        3.06756496e+00,  5.47447394e+00,  2.72943264e+00,  4.97391328e+00,\n",
       "        2.52769937e+00,  3.60863561e+00,  4.09021757e+00,  5.32654305e+00,\n",
       "        6.96308940e+00,  7.34229966e+00,  3.17205357e+00,  6.70626914e+00,\n",
       "        7.09103491e+00,  3.74908846e+00,  6.86553258e+00,  5.17277371e+00,\n",
       "        3.28953047e+00,  2.94290535e+00,  5.35307114e+00,  6.63960382e+00,\n",
       "        4.43011854e+00,  3.05858453e+00,  4.99007725e+00,  7.40744111e+00,\n",
       "        7.65811637e-01,  5.14687087e-01,  2.94616486e+00,  5.80583923e+00,\n",
       "        3.72819283e+00,  4.66247498e+00,  8.02452455e+00,  7.17394725e+00,\n",
       "        7.20083798e+00,  7.17160239e+00,  7.02710875e+00,  2.72808963e+00,\n",
       "        2.28898079e+00,  6.01896340e+00,  7.05940138e+00,  1.03564391e+01,\n",
       "        6.06727530e+00,  3.34449024e+00,  2.59480396e+00,  5.73421954e+00,\n",
       "        4.99310447e+00,  7.69528995e+00,  5.97913119e+00,  5.72611418e+00,\n",
       "        3.89497901e+00,  7.74390918e+00,  4.86163732e+00,  4.65677771e+00,\n",
       "        5.86223187e+00, -7.94628428e-02,  6.11118599e+00,  6.13876969e+00,\n",
       "        5.63062595e+00,  4.78242593e+00,  4.91868112e+00,  6.14272332e+00,\n",
       "        4.54037799e+00,  4.41236531e+00,  5.23114726e+00,  1.60881388e+00,\n",
       "        2.05935479e+00,  6.05954607e+00,  2.48006602e+00,  5.17405866e+00,\n",
       "        8.74552526e+00,  6.04828442e+00,  8.56820963e+00,  6.52573625e+00,\n",
       "        4.02954445e+00,  7.35856999e+00,  4.97889296e+00,  1.32192053e+00,\n",
       "        6.41921531e+00,  3.29701216e+00,  7.53373822e+00,  5.01374345e+00,\n",
       "        1.26189944e+00,  8.29657528e+00,  4.12138413e+00,  3.82202857e+00,\n",
       "        4.50066062e+00,  2.29849218e+00,  4.79613744e+00,  5.61986814e+00,\n",
       "        5.79627861e+00,  2.35361090e+00,  2.23205163e+00,  5.79598459e+00,\n",
       "        9.16970891e+00,  5.68199286e+00,  6.46081309e+00,  2.28253623e+00,\n",
       "        4.47878810e+00,  4.91021579e+00,  4.15224242e+00,  4.38457783e+00,\n",
       "        4.53941206e+00,  5.76062385e+00,  7.25223847e+00,  4.53319107e+00,\n",
       "        7.13339208e+00,  3.19368017e+00,  7.18702868e+00,  3.75169298e+00,\n",
       "        3.91571380e+00,  7.58163481e+00,  5.94020817e+00,  7.51879965e+00,\n",
       "        6.88191699e+00,  5.30630590e+00,  6.17635624e+00,  5.56726230e+00,\n",
       "        4.02128206e+00,  4.51494728e+00,  8.31433672e+00,  7.97891042e+00,\n",
       "        6.83425136e+00,  2.15566930e+00,  1.79305228e+00,  4.89060610e+00,\n",
       "        5.75729315e+00,  3.56521268e+00,  7.36914719e+00, -3.10010186e-01,\n",
       "        7.86545035e+00,  6.79317698e+00, -1.94518480e-01,  3.77223821e+00,\n",
       "        4.43469334e+00,  8.97178603e+00,  3.69798072e+00,  6.71644665e+00,\n",
       "        3.00134230e+00,  5.36673931e+00,  6.05873127e+00,  1.51951991e+00,\n",
       "        3.62686206e+00,  6.67770324e+00,  3.51394069e+00,  5.09034590e+00,\n",
       "        6.86482565e+00,  6.99766349e+00,  8.41847908e+00,  6.80548721e+00])"
      ]
     },
     "execution_count": 22,
     "metadata": {},
     "output_type": "execute_result"
    }
   ],
   "source": [
    "normal_dist"
   ]
  },
  {
   "cell_type": "code",
   "execution_count": 25,
   "metadata": {},
   "outputs": [
    {
     "data": {
      "text/plain": [
       "3.4283687000424835e-16"
      ]
     },
     "execution_count": 25,
     "metadata": {},
     "output_type": "execute_result"
    }
   ],
   "source": [
    "# Here, let's standardize by hand\n",
    "# (x - mean) / std\n",
    "z_dist = [(x-np.mean(normal_dist))/np.std(normal_dist)for x in normal_dist]\n",
    "\n",
    "np.mean(z_dist)"
   ]
  },
  {
   "cell_type": "code",
   "execution_count": 26,
   "metadata": {},
   "outputs": [
    {
     "data": {
      "image/png": "[encoded data removed]",
      "text/plain": [
       "<Figure size 720x432 with 2 Axes>"
      ]
     },
     "metadata": {
      "needs_background": "light"
     },
     "output_type": "display_data"
    }
   ],
   "source": [
    "# Visualize it\n",
    "fig, (ax0, ax1) = plt.subplots(nrows=2, sharex=True, figsize=(10, 6))\n",
    "\n",
    "sns.histplot(data=normal_dist, ax=ax0)\n",
    "ax0.set_title('Before Standardization')\n",
    "\n",
    "sns.histplot(data=z_dist, ax=ax1)\n",
    "ax1.set_title('After Standardization')\n",
    "\n",
    "plt.tight_layout()"
   ]
  },
  {
   "cell_type": "markdown",
   "metadata": {
    "hidden": true
   },
   "source": [
    "Talking about the **standard normal distribution** can be very convenient since the values correspond to the number of standard deviations above or below the mean."
   ]
  },
  {
   "cell_type": "markdown",
   "metadata": {
    "heading_collapsed": true,
    "hidden": true
   },
   "source": [
    "## $z$-Score"
   ]
  },
  {
   "cell_type": "markdown",
   "metadata": {
    "hidden": true
   },
   "source": [
    "A **$z$-score** for a specific data point $x$ (in a normal distribution) is simply the distance to the mean in the units of standard deviations\n",
    "\n",
    "$$\\large z = \\frac{x - \\mu}{\\sigma}$$\n",
    "\n",
    "By calculating the z-score of an individual point, we can see how unlikely a value is."
   ]
  },
  {
   "cell_type": "markdown",
   "metadata": {
    "hidden": true
   },
   "source": [
    "Here's a little site with some [interactive Gaussians](https://www.intmath.com/counting-probability/normal-distribution-graph-interactive.php)"
   ]
  },
  {
   "cell_type": "markdown",
   "metadata": {
    "heading_collapsed": true,
    "hidden": true
   },
   "source": [
    "#### 🧠 Knowledge Check"
   ]
  },
  {
   "cell_type": "markdown",
   "metadata": {
    "hidden": true
   },
   "source": [
    "What would the $z$-score be for the middle of a normal curve?\n",
    "\n",
    "- zero, because the middle of a normal curve is the mean. mean - mean gives 0 in the denominator.\n"
   ]
  },
  {
   "cell_type": "markdown",
   "metadata": {
    "heading_collapsed": true,
    "hidden": true
   },
   "source": [
    "### The Empirical Rule"
   ]
  },
  {
   "cell_type": "markdown",
   "metadata": {
    "hidden": true
   },
   "source": [
    "> Rule states that $68\\%$ of the values of a normal distribution of data lie within 1 standard deviation ($\\sigma$) of the mean, $95\\%$ within $2\\sigma$, and $99.7\\%$ within $3\\sigma$.  \n",
    "\n",
    "This makes it really quick to look at a normal distribution and understand where values tend to lie"
   ]
  },
  {
   "cell_type": "markdown",
   "metadata": {
    "hidden": true
   },
   "source": [
    "<img src='https://github.com/learn-co-students/dsc-0-09-12-gaussian-distributions-online-ds-ft-031119/blob/master/normalsd.jpg?raw=true' width=700/>"
   ]
  },
  {
   "cell_type": "markdown",
   "metadata": {
    "heading_collapsed": true,
    "hidden": true
   },
   "source": [
    "#### 🧠 Knowledge Check"
   ]
  },
  {
   "cell_type": "markdown",
   "metadata": {
    "hidden": true
   },
   "source": [
    "About what percentage of the values would be between a $z$-score of $-1$ and a $z$-score of $2$?\n",
    "\n",
    "<details>\n",
    "    <summary>Answer</summary>\n",
    "    About $82\\%$\n",
    "</details>"
   ]
  },
  {
   "cell_type": "markdown",
   "metadata": {
    "heading_collapsed": true
   },
   "source": [
    "# Exercises"
   ]
  },
  {
   "cell_type": "markdown",
   "metadata": {},
   "source": [
    "The distribution of people's heights in the United States has a **mean of 66 inches** and a **standard deviation of 4 inches**. "
   ]
  },
  {
   "cell_type": "markdown",
   "metadata": {
    "heading_collapsed": true,
    "hidden": true
   },
   "source": [
    "## Height $z$-score"
   ]
  },
  {
   "cell_type": "markdown",
   "metadata": {
    "hidden": true
   },
   "source": [
    "Calculate the z-score of a height of **76 inches.**"
   ]
  },
  {
   "cell_type": "code",
   "execution_count": 27,
   "metadata": {
    "hidden": true
   },
   "outputs": [
    {
     "data": {
      "text/plain": [
       "2.5"
      ]
     },
     "execution_count": 27,
     "metadata": {},
     "output_type": "execute_result"
    }
   ],
   "source": [
    "# Your code here\n",
    "\n",
    "(76-66) / 4\n"
   ]
  },
  {
   "cell_type": "markdown",
   "metadata": {},
   "source": [
    "<details>\n",
    "    <summary>Answer</summary>\n",
    "    <code># z-score: z = (x - mu) / std\n",
    "(76 - 66) / 4</code>\n",
    "</details>"
   ]
  },
  {
   "cell_type": "markdown",
   "metadata": {},
   "source": [
    "#### Describe the z-score - what does it tell us?\n",
    "\n",
    "- someone that is 76 inches tall is 2.5 standard deviations above the mean.\n"
   ]
  },
  {
   "cell_type": "markdown",
   "metadata": {
    "heading_collapsed": true,
    "hidden": true
   },
   "source": [
    "## Height Empirical Rule"
   ]
  },
  {
   "cell_type": "markdown",
   "metadata": {
    "hidden": true
   },
   "source": [
    "Determine the proportion of those whose height is between **62 inches and 74 inches**."
   ]
  },
  {
   "cell_type": "code",
   "execution_count": 30,
   "metadata": {},
   "outputs": [
    {
     "data": {
      "text/plain": [
       "(-1.0, 2.0)"
      ]
     },
     "execution_count": 30,
     "metadata": {},
     "output_type": "execute_result"
    }
   ],
   "source": [
    "# Your code here\n",
    "\n",
    "z62 = (62 - 66)/4\n",
    "z74 = (74 - 66)/4\n",
    "\n",
    "z62, z74"
   ]
  },
  {
   "cell_type": "markdown",
   "metadata": {},
   "source": [
    "<details>\n",
    "    <summary>Answer 1</summary>\n",
    "<code># z-scores for 62\" and 74\":\n",
    "z_62 = (62 - 66) / 4\n",
    "z_74 = (74 - 66) / 4\n",
    "z_62, z_74</code>\n",
    "    </details>"
   ]
  },
  {
   "cell_type": "markdown",
   "metadata": {},
   "source": [
    "<details>\n",
    "    <summary>Answer 2</summary>\n",
    "    <code>heights = stats.norm(loc=66, scale=4)\n",
    "heights.cdf(74) - heights.cdf(62)</code>\n",
    "    </details>"
   ]
  },
  {
   "cell_type": "markdown",
   "metadata": {
    "heading_collapsed": true,
    "hidden": true
   },
   "source": [
    "## Height Percentile"
   ]
  },
  {
   "cell_type": "markdown",
   "metadata": {
    "hidden": true
   },
   "source": [
    "Assuming the above distribution of people's heights in the United States is approximately normal, what percent of people have a height **less than 75 inches**?"
   ]
  },
  {
   "cell_type": "code",
   "execution_count": 32,
   "metadata": {},
   "outputs": [
    {
     "data": {
      "text/plain": [
       "0.9877755273449553"
      ]
     },
     "execution_count": 32,
     "metadata": {},
     "output_type": "execute_result"
    }
   ],
   "source": [
    "# Your code here\n",
    "heights = stats.norm(loc=66, scale=4)\n",
    "heights.cdf(75)"
   ]
  },
  {
   "cell_type": "markdown",
   "metadata": {},
   "source": [
    "<details>\n",
    "    <summary>Answer</summary>\n",
    "    <code>heights.cdf(75)</code>\n",
    "    </details>"
   ]
  },
  {
   "cell_type": "markdown",
   "metadata": {
    "heading_collapsed": true,
    "hidden": true
   },
   "source": [
    "## Bonus"
   ]
  },
  {
   "cell_type": "markdown",
   "metadata": {
    "hidden": true
   },
   "source": [
    "Assuming the above distribution of people's heights in the United States is approximately normal, what range of heights contain the **middle 50% of values**, also known as the _interquartile range_ (IQR)?"
   ]
  },
  {
   "cell_type": "code",
   "execution_count": 37,
   "metadata": {},
   "outputs": [
    {
     "data": {
      "text/plain": [
       "[63.30204099921567, 68.69795900078432]"
      ]
     },
     "execution_count": 37,
     "metadata": {},
     "output_type": "execute_result"
    }
   ],
   "source": [
    "# Your code here\n",
    "\n",
    "iqr = [heights.ppf(0.25), heights.ppf(0.75)]\n",
    "iqr"
   ]
  },
  {
   "cell_type": "markdown",
   "metadata": {},
   "source": [
    "<details>\n",
    "    <summary>Answer</summary>\n",
    "    <code>heights.ppf(0.25), heights.ppf(0.75)</code>\n",
    "    </details>"
   ]
  },
  {
   "cell_type": "markdown",
   "metadata": {},
   "source": [
    "## Time for Pandas!\n",
    "\n",
    "Let's use the same Seattle City Employee data from the first Distributions lecture to check out what scaling looks like in practice!\n",
    "\n",
    "Data source: https://data.seattle.gov/City-Business/City-of-Seattle-Wage-Data/2khk-5ukd"
   ]
  },
  {
   "cell_type": "code",
   "execution_count": 34,
   "metadata": {},
   "outputs": [],
   "source": [
    "# Read in the data\n",
    "df = pd.read_csv('data/City_of_Seattle_Wage_Data_031422.csv')"
   ]
  },
  {
   "cell_type": "code",
   "execution_count": 35,
   "metadata": {},
   "outputs": [
    {
     "data": {
      "text/html": [
       "<div>\n",
       "<style scoped>\n",
       "    .dataframe tbody tr th:only-of-type {\n",
       "        vertical-align: middle;\n",
       "    }\n",
       "\n",
       "    .dataframe tbody tr th {\n",
       "        vertical-align: top;\n",
       "    }\n",
       "\n",
       "    .dataframe thead th {\n",
       "        text-align: right;\n",
       "    }\n",
       "</style>\n",
       "<table border=\"1\" class=\"dataframe\">\n",
       "  <thead>\n",
       "    <tr style=\"text-align: right;\">\n",
       "      <th></th>\n",
       "      <th>Department</th>\n",
       "      <th>Last Name</th>\n",
       "      <th>First Name</th>\n",
       "      <th>Job Title</th>\n",
       "      <th>Hourly Rate</th>\n",
       "    </tr>\n",
       "  </thead>\n",
       "  <tbody>\n",
       "    <tr>\n",
       "      <th>0</th>\n",
       "      <td>Seattle Public Utilities</td>\n",
       "      <td>Batchelor</td>\n",
       "      <td>Craig</td>\n",
       "      <td>Civil Engrng Spec,Sr</td>\n",
       "      <td>53.740</td>\n",
       "    </tr>\n",
       "    <tr>\n",
       "      <th>1</th>\n",
       "      <td>Finance &amp; Admin Services</td>\n",
       "      <td>Altice</td>\n",
       "      <td>Jeffrey</td>\n",
       "      <td>Auto Mechanic</td>\n",
       "      <td>39.780</td>\n",
       "    </tr>\n",
       "    <tr>\n",
       "      <th>2</th>\n",
       "      <td>Finance &amp; Admin Services</td>\n",
       "      <td>Montes</td>\n",
       "      <td>Valeria</td>\n",
       "      <td>Cust Svc Rep</td>\n",
       "      <td>29.450</td>\n",
       "    </tr>\n",
       "    <tr>\n",
       "      <th>3</th>\n",
       "      <td>Fire Department</td>\n",
       "      <td>Kuklok</td>\n",
       "      <td>Rebecca</td>\n",
       "      <td>Cust Svc Rep *</td>\n",
       "      <td>29.450</td>\n",
       "    </tr>\n",
       "    <tr>\n",
       "      <th>4</th>\n",
       "      <td>Planning &amp; Comm Development</td>\n",
       "      <td>Quirindongo</td>\n",
       "      <td>Rico</td>\n",
       "      <td>Executive3</td>\n",
       "      <td>97.164</td>\n",
       "    </tr>\n",
       "  </tbody>\n",
       "</table>\n",
       "</div>"
      ],
      "text/plain": [
       "                    Department    Last Name First Name             Job Title  \\\n",
       "0     Seattle Public Utilities    Batchelor      Craig  Civil Engrng Spec,Sr   \n",
       "1     Finance & Admin Services       Altice    Jeffrey         Auto Mechanic   \n",
       "2     Finance & Admin Services       Montes    Valeria          Cust Svc Rep   \n",
       "3              Fire Department       Kuklok    Rebecca        Cust Svc Rep *   \n",
       "4  Planning & Comm Development  Quirindongo       Rico            Executive3   \n",
       "\n",
       "   Hourly Rate   \n",
       "0        53.740  \n",
       "1        39.780  \n",
       "2        29.450  \n",
       "3        29.450  \n",
       "4        97.164  "
      ]
     },
     "execution_count": 35,
     "metadata": {},
     "output_type": "execute_result"
    }
   ],
   "source": [
    "# Check it\n",
    "df.head()"
   ]
  },
  {
   "cell_type": "code",
   "execution_count": 38,
   "metadata": {},
   "outputs": [],
   "source": [
    "# Rename the columns\n",
    "df = df.rename(columns = lambda x: x.replace(\" \", \"\"))"
   ]
  },
  {
   "cell_type": "code",
   "execution_count": 39,
   "metadata": {},
   "outputs": [
    {
     "data": {
      "text/html": [
       "<div>\n",
       "<style scoped>\n",
       "    .dataframe tbody tr th:only-of-type {\n",
       "        vertical-align: middle;\n",
       "    }\n",
       "\n",
       "    .dataframe tbody tr th {\n",
       "        vertical-align: top;\n",
       "    }\n",
       "\n",
       "    .dataframe thead th {\n",
       "        text-align: right;\n",
       "    }\n",
       "</style>\n",
       "<table border=\"1\" class=\"dataframe\">\n",
       "  <thead>\n",
       "    <tr style=\"text-align: right;\">\n",
       "      <th></th>\n",
       "      <th>HourlyRate</th>\n",
       "    </tr>\n",
       "  </thead>\n",
       "  <tbody>\n",
       "    <tr>\n",
       "      <th>count</th>\n",
       "      <td>11739.000000</td>\n",
       "    </tr>\n",
       "    <tr>\n",
       "      <th>mean</th>\n",
       "      <td>47.817331</td>\n",
       "    </tr>\n",
       "    <tr>\n",
       "      <th>std</th>\n",
       "      <td>16.722128</td>\n",
       "    </tr>\n",
       "    <tr>\n",
       "      <th>min</th>\n",
       "      <td>5.530000</td>\n",
       "    </tr>\n",
       "    <tr>\n",
       "      <th>25%</th>\n",
       "      <td>35.400000</td>\n",
       "    </tr>\n",
       "    <tr>\n",
       "      <th>50%</th>\n",
       "      <td>47.340000</td>\n",
       "    </tr>\n",
       "    <tr>\n",
       "      <th>75%</th>\n",
       "      <td>59.550000</td>\n",
       "    </tr>\n",
       "    <tr>\n",
       "      <th>max</th>\n",
       "      <td>187.767000</td>\n",
       "    </tr>\n",
       "  </tbody>\n",
       "</table>\n",
       "</div>"
      ],
      "text/plain": [
       "         HourlyRate\n",
       "count  11739.000000\n",
       "mean      47.817331\n",
       "std       16.722128\n",
       "min        5.530000\n",
       "25%       35.400000\n",
       "50%       47.340000\n",
       "75%       59.550000\n",
       "max      187.767000"
      ]
     },
     "execution_count": 39,
     "metadata": {},
     "output_type": "execute_result"
    }
   ],
   "source": [
    "# Describe the numeric column\n",
    "df.describe()"
   ]
  },
  {
   "cell_type": "code",
   "execution_count": 41,
   "metadata": {},
   "outputs": [
    {
     "data": {
      "image/png": "[encoded data removed]",
      "text/plain": [
       "<Figure size 432x288 with 1 Axes>"
      ]
     },
     "metadata": {
      "needs_background": "light"
     },
     "output_type": "display_data"
    }
   ],
   "source": [
    "# Plot the hourly rate column\n",
    "sns.kdeplot(df['HourlyRate']);"
   ]
  },
  {
   "cell_type": "markdown",
   "metadata": {},
   "source": [
    "How can we describe this distribution?\n",
    "\n",
    "- Tri-modal?\n",
    "- Lots of outliers\n",
    "- Not perfectly normal, but not terrible"
   ]
  },
  {
   "cell_type": "markdown",
   "metadata": {},
   "source": [
    "### Using Z-Scores"
   ]
  },
  {
   "cell_type": "code",
   "execution_count": 42,
   "metadata": {
    "scrolled": true
   },
   "outputs": [
    {
     "data": {
      "text/html": [
       "<div>\n",
       "<style scoped>\n",
       "    .dataframe tbody tr th:only-of-type {\n",
       "        vertical-align: middle;\n",
       "    }\n",
       "\n",
       "    .dataframe tbody tr th {\n",
       "        vertical-align: top;\n",
       "    }\n",
       "\n",
       "    .dataframe thead th {\n",
       "        text-align: right;\n",
       "    }\n",
       "</style>\n",
       "<table border=\"1\" class=\"dataframe\">\n",
       "  <thead>\n",
       "    <tr style=\"text-align: right;\">\n",
       "      <th></th>\n",
       "      <th>Department</th>\n",
       "      <th>LastName</th>\n",
       "      <th>FirstName</th>\n",
       "      <th>JobTitle</th>\n",
       "      <th>HourlyRate</th>\n",
       "    </tr>\n",
       "  </thead>\n",
       "  <tbody>\n",
       "    <tr>\n",
       "      <th>9902</th>\n",
       "      <td>Finance &amp; Admin Services</td>\n",
       "      <td>McLean</td>\n",
       "      <td>David</td>\n",
       "      <td>StratAdvsr1,PC&amp;RM</td>\n",
       "      <td>61.162</td>\n",
       "    </tr>\n",
       "  </tbody>\n",
       "</table>\n",
       "</div>"
      ],
      "text/plain": [
       "                    Department LastName FirstName           JobTitle  \\\n",
       "9902  Finance & Admin Services   McLean     David  StratAdvsr1,PC&RM   \n",
       "\n",
       "      HourlyRate  \n",
       "9902      61.162  "
      ]
     },
     "execution_count": 42,
     "metadata": {},
     "output_type": "execute_result"
    }
   ],
   "source": [
    "# Grab a sample row\n",
    "sample_row = df.sample()\n",
    "sample_row"
   ]
  },
  {
   "cell_type": "code",
   "execution_count": 44,
   "metadata": {},
   "outputs": [
    {
     "data": {
      "text/plain": [
       "61.162"
      ]
     },
     "execution_count": 44,
     "metadata": {},
     "output_type": "execute_result"
    }
   ],
   "source": [
    "sample_row['HourlyRate'].values[0]"
   ]
  },
  {
   "cell_type": "code",
   "execution_count": null,
   "metadata": {},
   "outputs": [],
   "source": [
    "# Calculate the z-score for that row's HourlyRate\n",
    "(sample_row['HourlyRate'].values[0] - df['HourlyRate'].mean()) / df['HourlyRate'].std()"
   ]
  },
  {
   "cell_type": "code",
   "execution_count": 45,
   "metadata": {
    "scrolled": true
   },
   "outputs": [],
   "source": [
    "# Standardize the column\n",
    "mu = df['HourlyRate'].mean()\n",
    "sigma = df['HourlyRate'].std()\n",
    "standardized_rate = [((x-mu)/sigma) for x in df['HourlyRate']]"
   ]
  },
  {
   "cell_type": "code",
   "execution_count": 46,
   "metadata": {},
   "outputs": [
    {
     "data": {
      "image/png": "[encoded data removed]",
      "text/plain": [
       "<Figure size 432x288 with 2 Axes>"
      ]
     },
     "metadata": {
      "needs_background": "light"
     },
     "output_type": "display_data"
    }
   ],
   "source": [
    "# Visualize it\n",
    "fig, (ax1, ax2) = plt.subplots(nrows=2, ncols=1, sharex=False)\n",
    "# Can toggle sharex to see the impact of the scale\n",
    "\n",
    "sns.kdeplot(df['HourlyRate'], ax=ax1, label='Without Scaling')\n",
    "ax1.legend()\n",
    "\n",
    "sns.kdeplot(standardized_rate, ax=ax2, label='With Scaling')\n",
    "ax2.legend()\n",
    "\n",
    "plt.show()"
   ]
  },
  {
   "cell_type": "markdown",
   "metadata": {},
   "source": [
    "Let's discuss:\n",
    "\n",
    "- \n"
   ]
  },
  {
   "cell_type": "markdown",
   "metadata": {},
   "source": [
    "## Central Limit Theorem (CLT)\n",
    "\n",
    "We mentioned that the distribution above doesn't seem very normal. But here's something cool:\n",
    "\n",
    "> \"The central limit theorem states that the sampling distribution of the mean of any independent, random variable will be normal or nearly normal, if the sample size is large enough.\" \n",
    "- From [Stat Trek](https://stattrek.com/statistics/dictionary.aspx?definition=central_limit_theorem)"
   ]
  },
  {
   "cell_type": "markdown",
   "metadata": {},
   "source": [
    "Let's look at an example, using the popular Iris dataset:\n",
    "\n",
    "<img src=\"images/probability-basics.gif\" width=800>\n",
    "\n",
    "Here, taking samples of 15 flowers at a time and measuring their sepal lengths, we see that the the mean of the samples is normally distributed, where the mean of that normal distribution approximates the population mean. \n",
    "\n",
    "The coolest part is - this is true and works almost no matter what the original distribution is! (I say 'almost' because there are exceptions, of course). Even when we have _distinctly non-normal distributions_, we can use sampling to get a representation of population parameters (like the population mean)."
   ]
  },
  {
   "cell_type": "markdown",
   "metadata": {},
   "source": [
    "## Revisiting Sampling\n",
    "\n",
    "Before we apply a theorem that's related to sampling, we should remember some key things about sampling.\n",
    "\n",
    "<img src=\"images/sample_pop.png\" alt=\"sampling example with circled people\" width=800>\n",
    "\n",
    "Our goal when sampling is to find a representative group, from which we can infer population parameters.\n",
    "\n",
    "Remember: samples have statistics, populations have parameters.\n",
    "\n",
    "In order to do this effectively, our sample should be randomly selected and representative of our population (which sounds nice and easy, it's hard to do in practice). We are trying to minimize bias in our sample, but also we are sampling because we're trying to minimize cost as well."
   ]
  },
  {
   "cell_type": "markdown",
   "metadata": {},
   "source": [
    "### Back to our Seattle Data"
   ]
  },
  {
   "cell_type": "markdown",
   "metadata": {},
   "source": [
    "Let's take 100 samples of 50 employees each time, and see what their average hourly rate is:"
   ]
  },
  {
   "cell_type": "code",
   "execution_count": 57,
   "metadata": {
    "scrolled": true
   },
   "outputs": [
    {
     "data": {
      "text/plain": [
       "[46.605534000000006,\n",
       " 48.551906,\n",
       " 43.36760999999999,\n",
       " 50.46951000000001,\n",
       " 47.45229000000001,\n",
       " 50.100620000000006,\n",
       " 42.7699,\n",
       " 53.284484,\n",
       " 49.23843999999999,\n",
       " 49.202334,\n",
       " 50.34370800000001,\n",
       " 47.31768399999999,\n",
       " 45.831002,\n",
       " 47.34811199999999,\n",
       " 46.43495999999999,\n",
       " 48.19805799999999,\n",
       " 49.061980000000005,\n",
       " 47.201420000000006,\n",
       " 48.5,\n",
       " 49.494978,\n",
       " 51.29961799999999,\n",
       " 52.680080000000004,\n",
       " 46.610398,\n",
       " 44.81161999999999,\n",
       " 45.219964,\n",
       " 46.926458,\n",
       " 46.378305999999995,\n",
       " 46.036812,\n",
       " 50.50360000000001,\n",
       " 47.741229999999995,\n",
       " 48.80647,\n",
       " 53.38365400000001,\n",
       " 45.919853999999994,\n",
       " 45.27844000000001,\n",
       " 43.925828,\n",
       " 47.856320000000004,\n",
       " 50.32643800000001,\n",
       " 52.11762000000001,\n",
       " 54.51661000000001,\n",
       " 48.925184,\n",
       " 52.714884000000005,\n",
       " 46.05108000000001,\n",
       " 50.345037999999995,\n",
       " 45.82083200000001,\n",
       " 48.465468,\n",
       " 45.607466,\n",
       " 53.25661999999999,\n",
       " 50.38290000000001,\n",
       " 44.615954,\n",
       " 46.51048,\n",
       " 43.48550600000001,\n",
       " 50.227259999999994,\n",
       " 46.25992,\n",
       " 50.31700000000001,\n",
       " 49.198406000000006,\n",
       " 46.82365999999999,\n",
       " 51.38593999999999,\n",
       " 45.34494199999999,\n",
       " 45.67114000000001,\n",
       " 48.472319999999996,\n",
       " 41.970439999999996,\n",
       " 47.663768,\n",
       " 47.435144,\n",
       " 47.018046000000005,\n",
       " 46.03535999999999,\n",
       " 47.49144000000001,\n",
       " 44.68434,\n",
       " 51.29260800000001,\n",
       " 48.85179,\n",
       " 47.93695999999999,\n",
       " 50.031892,\n",
       " 46.40076000000001,\n",
       " 42.64511400000001,\n",
       " 47.438179999999996,\n",
       " 46.464180000000006,\n",
       " 47.02129399999999,\n",
       " 48.254664000000005,\n",
       " 49.760656,\n",
       " 46.35942,\n",
       " 50.69117399999999,\n",
       " 48.95355999999999,\n",
       " 51.15558,\n",
       " 45.76342,\n",
       " 47.33927999999999,\n",
       " 47.63814,\n",
       " 50.5336,\n",
       " 44.977656,\n",
       " 49.6863,\n",
       " 50.182492,\n",
       " 48.68347,\n",
       " 50.451048,\n",
       " 47.340404,\n",
       " 43.7862,\n",
       " 47.163039999999995,\n",
       " 47.43948199999999,\n",
       " 47.364673999999994,\n",
       " 48.04157199999999,\n",
       " 42.705624,\n",
       " 48.210812000000004,\n",
       " 47.14022,\n",
       " 50.047684,\n",
       " 50.811280000000004,\n",
       " 51.61952999999998,\n",
       " 47.489344,\n",
       " 45.248298000000005,\n",
       " 48.85312399999999,\n",
       " 48.490092,\n",
       " 51.25282400000001,\n",
       " 47.49023999999999,\n",
       " 51.200160000000004,\n",
       " 46.77609599999999,\n",
       " 48.873847999999995,\n",
       " 48.049094000000004,\n",
       " 50.093107999999994,\n",
       " 48.739110000000004,\n",
       " 48.79898,\n",
       " 43.839186,\n",
       " 54.988294,\n",
       " 47.081680000000006,\n",
       " 44.155221999999995,\n",
       " 49.365016000000004,\n",
       " 47.174414,\n",
       " 42.735380000000006,\n",
       " 48.9498,\n",
       " 45.442,\n",
       " 44.397853999999995,\n",
       " 48.58648,\n",
       " 51.587896,\n",
       " 45.75115400000001,\n",
       " 48.81862,\n",
       " 50.179782,\n",
       " 47.194162000000006,\n",
       " 49.78113999999999,\n",
       " 46.897816000000006,\n",
       " 46.80815799999999,\n",
       " 45.235580000000006,\n",
       " 46.805460000000004,\n",
       " 53.265324,\n",
       " 48.24499000000001,\n",
       " 44.383392,\n",
       " 44.751444,\n",
       " 46.99814000000001,\n",
       " 50.367638,\n",
       " 49.206,\n",
       " 45.552406,\n",
       " 46.89670000000001,\n",
       " 45.742124000000004,\n",
       " 49.191188000000004,\n",
       " 50.57032000000001,\n",
       " 46.93487999999999,\n",
       " 48.92714,\n",
       " 46.362260000000006,\n",
       " 44.73639000000001,\n",
       " 48.553072,\n",
       " 45.80098,\n",
       " 44.93194200000001,\n",
       " 47.487159999999996,\n",
       " 50.37018199999999,\n",
       " 47.39914000000001,\n",
       " 48.83928,\n",
       " 44.573420000000006,\n",
       " 45.388417999999994,\n",
       " 45.93158799999999,\n",
       " 52.054548,\n",
       " 53.438024000000006,\n",
       " 47.50956000000001,\n",
       " 49.244578000000004,\n",
       " 49.145169999999986,\n",
       " 51.57135,\n",
       " 45.859556000000005,\n",
       " 45.27969800000001,\n",
       " 46.361720000000005,\n",
       " 48.95230000000001,\n",
       " 43.914019999999994,\n",
       " 44.75052000000001,\n",
       " 46.744219999999984,\n",
       " 44.87992,\n",
       " 48.352332000000004,\n",
       " 48.02278799999999,\n",
       " 46.90435999999999,\n",
       " 44.534939999999985,\n",
       " 48.264176,\n",
       " 47.33204599999999,\n",
       " 46.31080599999999,\n",
       " 50.45622,\n",
       " 44.22258,\n",
       " 47.8205,\n",
       " 49.476158000000005,\n",
       " 48.709717999999995,\n",
       " 44.748642,\n",
       " 45.41742,\n",
       " 47.782452000000006,\n",
       " 48.259702000000004,\n",
       " 51.83614600000001,\n",
       " 46.752479999999984,\n",
       " 49.43381199999999,\n",
       " 45.839161999999995,\n",
       " 47.27568,\n",
       " 42.3459,\n",
       " 48.311044,\n",
       " 45.54594,\n",
       " 46.281252,\n",
       " 45.02136,\n",
       " 45.14974,\n",
       " 46.83696599999999,\n",
       " 46.477263999999984,\n",
       " 47.886799999999994,\n",
       " 46.527590000000004,\n",
       " 45.537200000000006,\n",
       " 45.577659999999995,\n",
       " 50.44756800000001,\n",
       " 45.244488000000004,\n",
       " 44.752480000000006,\n",
       " 48.959860000000006,\n",
       " 46.94914000000001,\n",
       " 45.899201999999995,\n",
       " 50.33405400000001,\n",
       " 50.27670000000001,\n",
       " 51.072416000000004,\n",
       " 48.435460000000006,\n",
       " 47.139669999999995,\n",
       " 47.839436000000006,\n",
       " 51.531252,\n",
       " 42.52794,\n",
       " 47.20656000000001,\n",
       " 46.54909,\n",
       " 45.173248,\n",
       " 49.780899999999995,\n",
       " 47.91526000000001,\n",
       " 44.976440000000004,\n",
       " 48.769646,\n",
       " 45.90485199999999,\n",
       " 46.370808,\n",
       " 48.438933999999996,\n",
       " 47.296532,\n",
       " 45.26234,\n",
       " 50.142340000000004,\n",
       " 45.739563999999994,\n",
       " 49.7816,\n",
       " 47.85137999999999,\n",
       " 50.94288200000001,\n",
       " 46.191931999999994,\n",
       " 45.211562,\n",
       " 49.08771799999999,\n",
       " 48.93906200000001,\n",
       " 49.51351400000001,\n",
       " 47.09813399999999,\n",
       " 49.411906,\n",
       " 47.01390200000001,\n",
       " 43.817106,\n",
       " 48.487194,\n",
       " 43.720552,\n",
       " 51.2904,\n",
       " 47.045488,\n",
       " 41.41196,\n",
       " 48.080879999999986,\n",
       " 44.90444,\n",
       " 46.910340000000005,\n",
       " 48.079178,\n",
       " 50.284078000000015,\n",
       " 49.310320000000004,\n",
       " 49.76088,\n",
       " 47.7904,\n",
       " 50.096709999999995,\n",
       " 48.810120000000005,\n",
       " 48.971488,\n",
       " 51.01816999999999,\n",
       " 51.27266399999999,\n",
       " 50.024080000000005,\n",
       " 49.72069200000001,\n",
       " 47.10095999999999,\n",
       " 48.12818,\n",
       " 48.563128,\n",
       " 47.38777799999999,\n",
       " 46.20958399999999,\n",
       " 47.6373,\n",
       " 49.67854200000001,\n",
       " 48.55666,\n",
       " 47.82422,\n",
       " 45.24704,\n",
       " 47.09702200000001,\n",
       " 45.19355600000001,\n",
       " 47.650577999999996,\n",
       " 43.659834000000004,\n",
       " 43.93282,\n",
       " 52.564716000000004,\n",
       " 49.24654800000001,\n",
       " 47.494139999999994,\n",
       " 46.327234,\n",
       " 48.19574000000001,\n",
       " 47.704826,\n",
       " 45.77504,\n",
       " 45.905262,\n",
       " 47.65967799999999,\n",
       " 46.8813,\n",
       " 52.55359599999999,\n",
       " 45.600216,\n",
       " 46.033938,\n",
       " 44.671752,\n",
       " 46.684896,\n",
       " 48.51926,\n",
       " 47.266200000000005,\n",
       " 44.397679999999994,\n",
       " 51.43099600000001,\n",
       " 49.47151999999999,\n",
       " 47.59264,\n",
       " 47.421406000000005,\n",
       " 48.2723,\n",
       " 47.683434000000005,\n",
       " 50.66276,\n",
       " 49.67211999999999,\n",
       " 45.52535999999999,\n",
       " 49.528724000000004,\n",
       " 50.708251999999995,\n",
       " 48.41159199999999,\n",
       " 43.83066000000001,\n",
       " 48.20515000000001,\n",
       " 44.58862,\n",
       " 48.688923999999986,\n",
       " 47.122834000000005,\n",
       " 48.997552,\n",
       " 50.79984399999999,\n",
       " 48.16844000000001,\n",
       " 46.81139999999999,\n",
       " 48.056675999999996,\n",
       " 48.38252799999999,\n",
       " 50.285628,\n",
       " 49.847981999999995,\n",
       " 45.515299999999996,\n",
       " 50.772132,\n",
       " 43.20153200000001,\n",
       " 48.304688000000006,\n",
       " 50.26371999999999,\n",
       " 48.47340000000001,\n",
       " 46.40112,\n",
       " 47.35596,\n",
       " 48.499660000000006,\n",
       " 48.383824,\n",
       " 48.635588000000006,\n",
       " 49.469467999999985,\n",
       " 49.551984000000004,\n",
       " 46.69592000000001,\n",
       " 51.960297999999995,\n",
       " 50.971940000000004,\n",
       " 49.927214000000006,\n",
       " 45.515299999999996,\n",
       " 47.90709999999999,\n",
       " 51.533724,\n",
       " 47.456360000000004,\n",
       " 43.45143800000001,\n",
       " 47.485020000000006,\n",
       " 48.795784000000005,\n",
       " 48.28036,\n",
       " 47.47756799999999,\n",
       " 49.939654,\n",
       " 47.88861999999999,\n",
       " 42.155559999999994,\n",
       " 49.58868600000001,\n",
       " 46.07806600000001,\n",
       " 46.59033600000001,\n",
       " 48.520052000000014,\n",
       " 47.739627999999996,\n",
       " 47.559660000000015,\n",
       " 49.60342,\n",
       " 45.417636,\n",
       " 44.478500000000004,\n",
       " 49.48721,\n",
       " 47.90768,\n",
       " 45.807080000000006,\n",
       " 52.44675,\n",
       " 48.84951,\n",
       " 49.98274200000001,\n",
       " 48.824064,\n",
       " 46.03004000000001,\n",
       " 50.674544,\n",
       " 48.521268,\n",
       " 42.52022,\n",
       " 44.59306000000001,\n",
       " 42.734716,\n",
       " 46.201654000000005,\n",
       " 47.1737,\n",
       " 46.48208,\n",
       " 48.15038,\n",
       " 51.73279600000001,\n",
       " 47.58074,\n",
       " 48.732744000000004,\n",
       " 48.369218000000004,\n",
       " 48.350880000000004,\n",
       " 45.69635199999999,\n",
       " 46.346286,\n",
       " 46.839439999999996,\n",
       " 50.299184,\n",
       " 49.40297399999999,\n",
       " 47.68496000000001,\n",
       " 50.645610000000005,\n",
       " 52.02732000000001,\n",
       " 44.44109,\n",
       " 48.45492,\n",
       " 45.1051,\n",
       " 51.590924,\n",
       " 46.47987999999999,\n",
       " 46.908984000000004,\n",
       " 46.977024,\n",
       " 46.371346,\n",
       " 42.61866400000001,\n",
       " 46.154812,\n",
       " 44.884153999999995,\n",
       " 43.90902,\n",
       " 46.569524,\n",
       " 50.15446000000001,\n",
       " 43.68836,\n",
       " 46.627802,\n",
       " 44.466754,\n",
       " 46.633888000000006,\n",
       " 45.04640000000001,\n",
       " 44.497240000000005,\n",
       " 51.71535999999999,\n",
       " 52.990508000000005,\n",
       " 47.31258400000001,\n",
       " 48.219768,\n",
       " 47.336877999999984,\n",
       " 47.333088,\n",
       " 49.17128,\n",
       " 48.207854000000005,\n",
       " 47.828678,\n",
       " 48.869378000000005,\n",
       " 46.475762,\n",
       " 44.971092000000006,\n",
       " 43.17986,\n",
       " 47.97716200000001,\n",
       " 48.692464,\n",
       " 47.16818,\n",
       " 46.94626000000001,\n",
       " 43.859998000000004,\n",
       " 47.095740000000006,\n",
       " 46.999828,\n",
       " 48.141999999999996,\n",
       " 43.515366,\n",
       " 46.44334,\n",
       " 46.57591399999999,\n",
       " 48.55936000000001,\n",
       " 49.90028399999999,\n",
       " 46.28409,\n",
       " 46.477774,\n",
       " 49.68416,\n",
       " 46.928712000000004,\n",
       " 47.010304,\n",
       " 49.835620000000006,\n",
       " 46.374,\n",
       " 50.13906,\n",
       " 47.10418,\n",
       " 46.23574000000001,\n",
       " 48.610914,\n",
       " 50.27208,\n",
       " 48.072176000000006,\n",
       " 46.726310000000005,\n",
       " 50.58324400000001,\n",
       " 45.294900000000005,\n",
       " 51.741378000000005,\n",
       " 49.732597999999996,\n",
       " 48.60854200000001,\n",
       " 49.341840000000005,\n",
       " 42.477720000000005,\n",
       " 44.32134,\n",
       " 52.035,\n",
       " 49.200808000000016,\n",
       " 47.55628000000001,\n",
       " 45.069281999999994,\n",
       " 46.53930400000001,\n",
       " 44.6856,\n",
       " 51.249702000000006,\n",
       " 48.54736400000001,\n",
       " 47.901875999999994,\n",
       " 47.35982,\n",
       " 51.81079600000001,\n",
       " 48.312996000000005,\n",
       " 47.589478,\n",
       " 48.55359200000001,\n",
       " 52.38718599999999,\n",
       " 48.486014,\n",
       " 50.185908,\n",
       " 49.59646000000001,\n",
       " 46.967628,\n",
       " 48.623340000000006,\n",
       " 50.635886000000006,\n",
       " 45.56256400000001,\n",
       " 52.22,\n",
       " 46.99523200000001,\n",
       " 46.32458,\n",
       " 48.90016000000001,\n",
       " 54.167334000000004,\n",
       " 43.88759999999999,\n",
       " 49.700559999999996,\n",
       " 49.96665200000001,\n",
       " 50.477772,\n",
       " 50.786832000000004,\n",
       " 49.389572,\n",
       " 48.833598,\n",
       " 46.493358,\n",
       " 43.890029999999996,\n",
       " 48.911680000000004,\n",
       " 46.447579999999995,\n",
       " 50.135799999999996,\n",
       " 45.767706000000004,\n",
       " 45.53375200000001,\n",
       " 44.796020000000006,\n",
       " 45.97072,\n",
       " 46.884498,\n",
       " 49.42035800000001,\n",
       " 43.237536,\n",
       " 51.830299999999994,\n",
       " 51.54538,\n",
       " 47.881733999999994,\n",
       " 43.71112000000001,\n",
       " 46.54666,\n",
       " 52.17874,\n",
       " 47.50598,\n",
       " 46.43611999999999,\n",
       " 54.36202,\n",
       " 44.594764000000005,\n",
       " 46.411992,\n",
       " 48.78602,\n",
       " 47.72888600000001,\n",
       " 47.807584000000006,\n",
       " 47.54348400000001,\n",
       " 51.16205,\n",
       " 50.616772,\n",
       " 47.908240000000006,\n",
       " 48.030488,\n",
       " 46.21945999999999,\n",
       " 46.581708,\n",
       " 47.60877200000001,\n",
       " 55.810379999999995,\n",
       " 48.679700000000004,\n",
       " 45.478958000000006,\n",
       " 48.12511199999999,\n",
       " 51.268420000000006,\n",
       " 47.383802,\n",
       " 46.491679999999995,\n",
       " 45.916172,\n",
       " 44.73851,\n",
       " 47.1131,\n",
       " 48.062239999999996,\n",
       " 48.245144,\n",
       " 45.718892000000004,\n",
       " 45.15715599999999,\n",
       " 44.55404000000001,\n",
       " 49.30068,\n",
       " 48.28490000000001,\n",
       " 44.477152000000004,\n",
       " 49.299494,\n",
       " 45.943757999999995,\n",
       " 51.16344,\n",
       " 50.07835600000001,\n",
       " 43.38367,\n",
       " 50.939522,\n",
       " 45.566358,\n",
       " 46.802154,\n",
       " 49.39585999999999,\n",
       " 50.203924,\n",
       " 51.22466,\n",
       " 46.565562,\n",
       " 44.73630599999999,\n",
       " 48.689821999999985,\n",
       " 46.365398,\n",
       " 47.520199999999996,\n",
       " 49.528148,\n",
       " 47.51778,\n",
       " 49.09165000000001,\n",
       " 45.21629999999999,\n",
       " 44.79169999999999,\n",
       " 44.23535,\n",
       " 47.009868000000004,\n",
       " 46.53249000000001,\n",
       " 48.486074,\n",
       " 52.276872,\n",
       " 49.550219999999996,\n",
       " 47.75358,\n",
       " 45.104921999999995,\n",
       " 46.892416000000004,\n",
       " 45.59282,\n",
       " 48.057275999999995,\n",
       " 47.099256000000004,\n",
       " 51.602912,\n",
       " 42.93738000000001,\n",
       " 46.562912,\n",
       " 47.816646,\n",
       " 47.72207800000001,\n",
       " 45.911294,\n",
       " 48.659516,\n",
       " 46.357820000000004,\n",
       " 46.94160000000001,\n",
       " 47.03732000000001,\n",
       " 45.98941999999999,\n",
       " 47.186099999999996,\n",
       " 48.977962,\n",
       " 46.97768,\n",
       " 48.5378,\n",
       " 44.662791999999996,\n",
       " 46.75392,\n",
       " 47.964482,\n",
       " 45.74954999999999,\n",
       " 49.634140000000016,\n",
       " 48.528008,\n",
       " 51.309540000000005,\n",
       " 53.411174,\n",
       " 45.55294,\n",
       " 47.318472,\n",
       " 45.23928000000001,\n",
       " 51.74987000000001,\n",
       " 48.99146399999999,\n",
       " 46.391560000000005,\n",
       " 45.37563000000001,\n",
       " 47.82216,\n",
       " 51.08818,\n",
       " 45.15680799999999,\n",
       " 47.996522000000006,\n",
       " 45.00102,\n",
       " 52.42730599999999,\n",
       " 48.299859999999995,\n",
       " 47.041234,\n",
       " 47.386179999999996,\n",
       " 48.553206,\n",
       " 44.21095199999999,\n",
       " 47.070996000000015,\n",
       " 45.841926,\n",
       " 49.06558,\n",
       " 45.063419999999994,\n",
       " 45.94480000000001,\n",
       " 47.47896000000001,\n",
       " 47.36926600000001,\n",
       " 47.6179,\n",
       " 50.59348600000001,\n",
       " 46.67930200000001,\n",
       " 50.77398,\n",
       " 46.248248000000004,\n",
       " 45.677982,\n",
       " 52.132646,\n",
       " 49.499666000000005,\n",
       " 51.05972,\n",
       " 48.126174,\n",
       " 49.408184,\n",
       " 50.372204,\n",
       " 49.05302399999999,\n",
       " 46.12889599999998,\n",
       " 47.555223999999995,\n",
       " 51.794544,\n",
       " 42.809960000000004,\n",
       " 48.96862,\n",
       " 49.43289000000001,\n",
       " 48.12664000000001,\n",
       " 49.994028,\n",
       " 48.243089999999995,\n",
       " 48.868964,\n",
       " 48.52646000000001,\n",
       " 46.48732000000001,\n",
       " 43.09532599999999,\n",
       " 45.03137400000001,\n",
       " 46.28976000000001,\n",
       " 47.189842000000006,\n",
       " 44.45692,\n",
       " 48.21438000000001,\n",
       " 43.122263999999994,\n",
       " 47.03795999999999,\n",
       " 48.282239999999994,\n",
       " 50.246799999999986,\n",
       " 45.18202000000001,\n",
       " 46.591491999999995,\n",
       " 47.4004,\n",
       " 48.30003,\n",
       " 52.867296,\n",
       " 46.460010000000004,\n",
       " 49.721632,\n",
       " 48.215351999999996,\n",
       " 50.966330000000006,\n",
       " 46.72406000000001,\n",
       " 44.49184,\n",
       " 49.32095999999999,\n",
       " 47.4783,\n",
       " 44.51973,\n",
       " 48.37281999999999,\n",
       " 53.72709999999999,\n",
       " 44.007299999999994,\n",
       " 47.312090000000005,\n",
       " 49.62988,\n",
       " 47.01266,\n",
       " 50.64348,\n",
       " 45.651582,\n",
       " 49.504038,\n",
       " 49.887356,\n",
       " 48.861474,\n",
       " 45.718916,\n",
       " 47.00804,\n",
       " 48.992720000000006,\n",
       " 49.159161999999995,\n",
       " 48.98124000000001,\n",
       " 49.481247999999994,\n",
       " 48.75846799999999,\n",
       " 44.58978,\n",
       " 47.475738,\n",
       " 49.69546,\n",
       " 44.19110799999999,\n",
       " 46.64993,\n",
       " 48.530159999999995,\n",
       " 44.72936,\n",
       " 42.74979999999999,\n",
       " 50.439636,\n",
       " 41.85616,\n",
       " 47.372941999999995,\n",
       " 48.44711000000001,\n",
       " 49.964208,\n",
       " 44.64026,\n",
       " 46.723535999999996,\n",
       " 50.54855200000001,\n",
       " 48.108611999999994,\n",
       " 47.016192000000004,\n",
       " 49.40426600000001,\n",
       " 55.49472200000001,\n",
       " 47.771046,\n",
       " 46.796132,\n",
       " 44.32906800000001,\n",
       " 49.496974,\n",
       " 51.13217199999999,\n",
       " 49.081256,\n",
       " 51.915642,\n",
       " 47.33258600000001,\n",
       " 48.610848000000004,\n",
       " 48.919594,\n",
       " 45.084064,\n",
       " 47.678169999999994,\n",
       " 47.414382,\n",
       " 47.36326,\n",
       " 46.058932000000006,\n",
       " 51.020734000000004,\n",
       " 48.96917799999999,\n",
       " 46.53732,\n",
       " 51.211558000000004,\n",
       " 49.17161800000001,\n",
       " 50.22114799999999,\n",
       " 46.774179999999994,\n",
       " 48.819416000000004,\n",
       " 45.78898200000001,\n",
       " 49.281638,\n",
       " 43.032862,\n",
       " 49.18493600000001,\n",
       " 49.623592,\n",
       " 46.502324,\n",
       " 47.737784000000005,\n",
       " 48.82592200000001,\n",
       " 45.12236,\n",
       " 51.669337999999996,\n",
       " 47.286300000000004,\n",
       " 49.41746,\n",
       " 48.854956,\n",
       " 47.133840000000006,\n",
       " 47.492368000000006,\n",
       " 49.34096,\n",
       " 44.62053999999999,\n",
       " 47.56283999999999,\n",
       " 47.164421999999995,\n",
       " 51.26048,\n",
       " 43.681909999999995,\n",
       " 45.23499999999999,\n",
       " 51.96924,\n",
       " 48.99856,\n",
       " 46.772310000000004,\n",
       " 49.89488,\n",
       " 50.215302,\n",
       " 46.901199999999996,\n",
       " 51.34473199999999,\n",
       " 50.70764,\n",
       " 50.77709999999999,\n",
       " 49.31941,\n",
       " 54.71154000000001,\n",
       " 50.10672,\n",
       " 45.153217999999995,\n",
       " 44.67311999999999,\n",
       " 50.68558999999999,\n",
       " 47.08827,\n",
       " 51.123281999999996,\n",
       " 48.076682,\n",
       " 49.13452000000001,\n",
       " 48.372460000000004,\n",
       " 50.827380000000005,\n",
       " 47.21102,\n",
       " 47.72014,\n",
       " 50.438545999999995,\n",
       " 47.48499999999999,\n",
       " 53.02805,\n",
       " 43.42286400000001,\n",
       " 53.61724,\n",
       " 44.54584599999999,\n",
       " 50.333152,\n",
       " 48.45637200000001,\n",
       " 48.47178199999999,\n",
       " 49.64086,\n",
       " 57.254096,\n",
       " 46.40137999999999,\n",
       " 43.63486000000001,\n",
       " 44.99642000000001,\n",
       " 48.669003999999994,\n",
       " 48.68094599999999,\n",
       " 44.91418600000001,\n",
       " 48.81652,\n",
       " 50.81302600000001,\n",
       " 48.944250000000004,\n",
       " 47.382419999999996,\n",
       " 48.073999999999984,\n",
       " 47.30942,\n",
       " 48.90968999999999,\n",
       " 51.475364,\n",
       " 46.12214,\n",
       " 48.12844,\n",
       " 45.581295999999995,\n",
       " 49.163186,\n",
       " 45.595854,\n",
       " 47.511888,\n",
       " 48.94788,\n",
       " 48.71474,\n",
       " 47.29348,\n",
       " 44.42938000000001,\n",
       " 49.819074,\n",
       " 47.574234,\n",
       " 51.653383999999996,\n",
       " 49.07698800000001,\n",
       " 48.80329999999999,\n",
       " 43.221599999999995,\n",
       " 42.12028,\n",
       " 46.80000999999999,\n",
       " 46.46623400000001,\n",
       " 48.68619599999999,\n",
       " 51.700804000000005,\n",
       " 48.827918,\n",
       " 45.65142000000001,\n",
       " 47.15301399999999,\n",
       " 50.20683600000001,\n",
       " 51.79157199999999,\n",
       " 46.19036,\n",
       " 45.45513400000001,\n",
       " 53.50014,\n",
       " 49.46647,\n",
       " 51.17883,\n",
       " 46.270608,\n",
       " 47.516376,\n",
       " 43.99318,\n",
       " 48.63075200000001,\n",
       " 41.873664,\n",
       " 47.8432,\n",
       " 46.251000000000005,\n",
       " 49.07999999999999,\n",
       " 48.81703,\n",
       " 50.416478,\n",
       " 45.070794,\n",
       " 46.454944000000005,\n",
       " 46.473044,\n",
       " 47.00878200000001,\n",
       " 48.475756000000004,\n",
       " 48.988271999999995,\n",
       " 48.76519999999999,\n",
       " 45.323111999999995,\n",
       " 48.09962199999999,\n",
       " 48.583836,\n",
       " 42.74608,\n",
       " 46.850120000000004,\n",
       " 47.33766,\n",
       " 47.07311999999999,\n",
       " 48.85527999999999,\n",
       " 48.115998,\n",
       " 50.485284,\n",
       " 49.55548000000001,\n",
       " 47.02750000000001,\n",
       " 46.65542199999999,\n",
       " 48.79325,\n",
       " 47.194332,\n",
       " 49.393741999999996,\n",
       " 48.308,\n",
       " 48.544219999999996,\n",
       " 46.65841799999999,\n",
       " 49.868410000000004,\n",
       " 48.873728,\n",
       " 49.26258200000001,\n",
       " 46.12954,\n",
       " 46.29523999999999,\n",
       " 46.40428800000001,\n",
       " 50.371773999999995,\n",
       " 46.58274,\n",
       " 47.798916,\n",
       " 44.834619999999994,\n",
       " 45.256719999999994,\n",
       " 51.236068,\n",
       " 52.391772,\n",
       " 49.7603,\n",
       " 47.22809599999999,\n",
       " 44.54058,\n",
       " 49.15274,\n",
       " 48.08414,\n",
       " 51.107978,\n",
       " 50.05576,\n",
       " 48.58304799999999,\n",
       " 45.824554,\n",
       " 47.828206,\n",
       " 47.607423999999995,\n",
       " 52.857128,\n",
       " 48.67267600000001,\n",
       " 45.430519999999994,\n",
       " 43.69842799999999,\n",
       " 50.49592,\n",
       " 49.806514,\n",
       " 50.39363799999999,\n",
       " 50.05562199999999,\n",
       " 48.192238,\n",
       " 51.610958000000004,\n",
       " 45.378060000000005,\n",
       " 48.539260000000006,\n",
       " 47.263487999999995,\n",
       " 47.497244,\n",
       " 47.18823999999999,\n",
       " 51.830844,\n",
       " 51.09366,\n",
       " 49.789552,\n",
       " 46.811834,\n",
       " 50.91442,\n",
       " 49.39676,\n",
       " 45.732327999999995,\n",
       " 48.38349199999999,\n",
       " 51.53496199999999,\n",
       " 51.684439999999995,\n",
       " 51.137851999999995,\n",
       " 49.57986,\n",
       " 49.809542,\n",
       " 42.77405400000001,\n",
       " 48.017821999999995,\n",
       " 44.59908,\n",
       " 48.34946000000001,\n",
       " 52.8134,\n",
       " 44.3362,\n",
       " 49.155158,\n",
       " 48.770266,\n",
       " 43.741859999999996,\n",
       " 46.915583999999996,\n",
       " 48.60884,\n",
       " 54.26675400000001,\n",
       " 44.20732,\n",
       " 49.308434,\n",
       " 49.03528,\n",
       " 46.024420000000006,\n",
       " 43.97208,\n",
       " 46.97764999999998,\n",
       " 48.248355999999994,\n",
       " 49.90706400000001,\n",
       " 47.62188000000001,\n",
       " 48.38519799999999,\n",
       " 46.23175200000001,\n",
       " 50.609586,\n",
       " 49.453514000000006,\n",
       " 46.18405800000001,\n",
       " 47.278604,\n",
       " 52.131043999999996,\n",
       " 46.019722,\n",
       " 47.751354,\n",
       " 51.17359999999999,\n",
       " 47.02134,\n",
       " 46.511284,\n",
       " 48.110499999999995,\n",
       " 46.55877799999999,\n",
       " 45.84750000000001,\n",
       " 48.6259,\n",
       " 45.271536000000005,\n",
       " 49.76673999999999,\n",
       " 44.436052,\n",
       " 47.60874600000001,\n",
       " 51.009634,\n",
       " 50.615932,\n",
       " 50.0427,\n",
       " 46.161398,\n",
       " 48.67438,\n",
       " 47.946876,\n",
       " 46.848716,\n",
       " 47.396578,\n",
       " 47.14434,\n",
       " 43.90527999999999,\n",
       " 41.074,\n",
       " 48.476020000000005,\n",
       " 47.765136000000005,\n",
       " 48.67208000000001,\n",
       " 51.174572,\n",
       " 47.542056,\n",
       " 44.69629,\n",
       " 48.78216,\n",
       " 45.727896,\n",
       " 42.47978,\n",
       " 49.871152,\n",
       " 44.56594000000001,\n",
       " 44.86246,\n",
       " 47.28166,\n",
       " 48.099978,\n",
       " 44.623761999999985,\n",
       " 44.45837200000001,\n",
       " 48.475662,\n",
       " 48.611751999999996,\n",
       " ...]"
      ]
     },
     "execution_count": 57,
     "metadata": {},
     "output_type": "execute_result"
    }
   ],
   "source": [
    "k = 10000 # number of samples\n",
    "n = 50 # number of employees per sample\n",
    "\n",
    "# The full for loop version:\n",
    "# sample_means = []\n",
    "# for x in range(n):\n",
    "#     sample_emps = df.sample(n=n)\n",
    "#     sample_mean = sample_emps['Hourly Rate '].mean()\n",
    "#     sample_means.append(sample_mean)\n",
    "    \n",
    "# But let's do this with list comprehension:\n",
    "sample_means = [np.mean(df.sample(n))[0] for x in range(k)]\n",
    "sample_means"
   ]
  },
  {
   "cell_type": "code",
   "execution_count": 58,
   "metadata": {
    "scrolled": false
   },
   "outputs": [
    {
     "data": {
      "image/png": "[encoded data removed]",
      "text/plain": [
       "<Figure size 576x432 with 1 Axes>"
      ]
     },
     "metadata": {
      "needs_background": "light"
     },
     "output_type": "display_data"
    }
   ],
   "source": [
    "# Plotting the distribution of our samples, plus our pop and sample means\n",
    "pop_mean = df['HourlyRate'].mean()\n",
    "samp_mean = np.mean(sample_means)\n",
    "\n",
    "plt.figure(figsize=(8,6))\n",
    "\n",
    "sns.histplot(sample_means)\n",
    "\n",
    "plt.vlines(pop_mean, ymin=0, ymax=25, color='r', linestyle=':',\n",
    "           label=f'Population Mean: {pop_mean:.2f}')\n",
    "plt.vlines(samp_mean, ymin=0, ymax=25, color='g', linestyle=':',\n",
    "           label=f'Mean of {k} Samples: {samp_mean:.2f}')\n",
    "\n",
    "plt.legend();"
   ]
  },
  {
   "cell_type": "markdown",
   "metadata": {},
   "source": [
    "Discuss:\n",
    "\n",
    "- \n"
   ]
  },
  {
   "cell_type": "markdown",
   "metadata": {
    "heading_collapsed": true
   },
   "source": [
    "-----\n",
    "\n",
    "\n",
    "# Level Up: Other Distributions"
   ]
  },
  {
   "cell_type": "markdown",
   "metadata": {
    "hidden": true
   },
   "source": [
    "The world is full of distributions to explore! See some other less-common ones below:"
   ]
  },
  {
   "cell_type": "markdown",
   "metadata": {
    "hidden": true
   },
   "source": [
    "![](images/distributions.png)"
   ]
  },
  {
   "cell_type": "markdown",
   "metadata": {
    "hidden": true
   },
   "source": [
    "Now that we know a few methods in visualizing distributions 📊👀, we can start looking at different types of distributions.\n",
    "\n",
    "We can tell a lot about a distribution shape such as taking a guess of the mechanism that it took to generate the data."
   ]
  },
  {
   "cell_type": "markdown",
   "metadata": {
    "heading_collapsed": true,
    "hidden": true
   },
   "source": [
    "## Distribution Types Exercise"
   ]
  },
  {
   "cell_type": "markdown",
   "metadata": {
    "hidden": true
   },
   "source": [
    "What type of distribution would you expect to best describe the following datasets?\n",
    "\n",
    "1. Survey responses about whether people voted\n",
    "2. Rolls on a six-sided die\n",
    "3. Numbers of defects in shipments of toys\n",
    "4. Output from a random number generator\n",
    "5. Measurements of palm tree heights"
   ]
  },
  {
   "cell_type": "markdown",
   "metadata": {
    "hidden": true
   },
   "source": [
    "**Your answers**\n",
    "\n",
    "1. Bernoulli - either you voted or didnt\n",
    "2. Uniform - 6 possible outcomes, all equally weighted\n",
    "3. \n",
    "4. Normal(Gaussian)\n",
    "5. Normal(Gaussian)"
   ]
  },
  {
   "cell_type": "markdown",
   "metadata": {},
   "source": [
    "## Level Up: SKLearn's Standard Scaler\n",
    "\n",
    "Soon we'll be using a pre-built function to scale our data: https://scikit-learn.org/stable/modules/generated/sklearn.preprocessing.StandardScaler.html\n",
    "\n",
    "Let's go ahead and peek at our first `sklearn` class!"
   ]
  },
  {
   "cell_type": "code",
   "execution_count": 59,
   "metadata": {},
   "outputs": [],
   "source": [
    "# Importing StandardScaler from the preprocessing module\n",
    "from sklearn.preprocessing import StandardScaler\n",
    "\n",
    "# Need to instantiate our scaler\n",
    "scaler = StandardScaler()\n",
    "\n",
    "# Fitting our scaler (note how we need to make the column into a dataframe)\n",
    "scaler.fit(df[['HourlyRate']])\n",
    "\n",
    "# Grabbing the transformed values out as scaled_rate\n",
    "scaled_rate = scaler.transform(df[['HourlyRate']])"
   ]
  },
  {
   "cell_type": "code",
   "execution_count": 60,
   "metadata": {
    "scrolled": false
   },
   "outputs": [
    {
     "data": {
      "image/png": "[encoded data removed]",
      "text/plain": [
       "<Figure size 720x432 with 3 Axes>"
      ]
     },
     "metadata": {
      "needs_background": "light"
     },
     "output_type": "display_data"
    }
   ],
   "source": [
    "# Plot and compare results\n",
    "fig, (ax1, ax2, ax3) = plt.subplots(nrows=3, ncols=1, figsize=(10,6))\n",
    "\n",
    "sns.kdeplot(df['HourlyRate'], ax=ax1, label='Without Scaling')\n",
    "ax1.legend()\n",
    "\n",
    "sns.kdeplot(standardized_rate, ax=ax2, label='Manual Scaling')\n",
    "ax2.legend()\n",
    "\n",
    "sns.kdeplot(scaled_rate[:,0], ax=ax3, label='SKLearn Standard Scaling')\n",
    "ax3.legend()\n",
    "\n",
    "plt.show()"
   ]
  },
  {
   "cell_type": "code",
   "execution_count": null,
   "metadata": {},
   "outputs": [],
   "source": []
  }
 ],
 "metadata": {
  "kernelspec": {
   "display_name": "Python 3",
   "language": "python",
   "name": "python3"
  },
  "language_info": {
   "codemirror_mode": {
    "name": "ipython",
    "version": 3
   },
   "file_extension": ".py",
   "mimetype": "text/x-python",
   "name": "python",
   "nbconvert_exporter": "python",
   "pygments_lexer": "ipython3",
   "version": "3.8.5"
  },
  "toc": {
   "base_numbering": 1,
   "nav_menu": {},
   "number_sections": true,
   "sideBar": true,
   "skip_h1_title": false,
   "title_cell": "Table of Contents",
   "title_sidebar": "TOC",
   "toc_cell": true,
   "toc_position": {
    "height": "calc(100% - 180px)",
    "left": "10px",
    "top": "150px",
    "width": "380.25px"
   },
   "toc_section_display": true,
   "toc_window_display": true
  }
 },
 "nbformat": 4,
 "nbformat_minor": 4
}
