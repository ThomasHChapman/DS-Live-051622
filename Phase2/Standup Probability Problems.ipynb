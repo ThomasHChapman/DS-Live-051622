{
 "cells": [
  {
   "cell_type": "code",
   "execution_count": 3,
   "metadata": {},
   "outputs": [],
   "source": [
    "import math\n",
    "import itertools"
   ]
  },
  {
   "cell_type": "markdown",
   "metadata": {},
   "source": [
    "1. A box contains three items that are labeled A, B, and C. Two items are selected at random \n",
    "(without replacement) from this box. List all the possible outcomes for this experiment. "
   ]
  },
  {
   "cell_type": "code",
   "execution_count": 4,
   "metadata": {},
   "outputs": [
    {
     "data": {
      "text/plain": [
       "3"
      ]
     },
     "execution_count": 4,
     "metadata": {},
     "output_type": "execute_result"
    }
   ],
   "source": [
    "math.comb(3, 2)"
   ]
  },
  {
   "cell_type": "code",
   "execution_count": 6,
   "metadata": {},
   "outputs": [
    {
     "data": {
      "text/plain": [
       "[('A', 'B'), ('A', 'C'), ('B', 'C')]"
      ]
     },
     "execution_count": 6,
     "metadata": {},
     "output_type": "execute_result"
    }
   ],
   "source": [
    "list(itertools.combinations(['A', 'B', 'C'], 2))"
   ]
  },
  {
   "cell_type": "markdown",
   "metadata": {},
   "source": [
    "# Question 2"
   ]
  },
  {
   "cell_type": "markdown",
   "metadata": {},
   "source": [
    "2. In a group of 50 executives, 27 have a type A personality. If one executive is selected at random \n",
    "from this group, what is the probability that this executive has a type A personality?"
   ]
  },
  {
   "cell_type": "code",
   "execution_count": 9,
   "metadata": {},
   "outputs": [
    {
     "data": {
      "text/plain": [
       "0.54"
      ]
     },
     "execution_count": 9,
     "metadata": {},
     "output_type": "execute_result"
    }
   ],
   "source": [
    "sample = 50\n",
    "type_a = 27\n",
    "\n",
    "prob_a = type_a/sample\n",
    "prob_a"
   ]
  },
  {
   "cell_type": "markdown",
   "metadata": {},
   "source": [
    "# Question 3"
   ]
  },
  {
   "cell_type": "markdown",
   "metadata": {},
   "source": [
    "3. Determine whether each of the following numbers could represent the probability of an event. \n",
    "Explain why or why not. \n",
    "a. 25/25 = True\n",
    "b. 333.3% = False\n",
    "c. 2.3 = False\n",
    "d. -0.0004 = False\n",
    "e. 0 = True\n",
    "f. 320/105 = False"
   ]
  },
  {
   "cell_type": "code",
   "execution_count": null,
   "metadata": {},
   "outputs": [],
   "source": [
    "b, c, d ,f cannot be probabilities because they are > 1."
   ]
  },
  {
   "cell_type": "markdown",
   "metadata": {},
   "source": [
    "# Question 4"
   ]
  },
  {
   "cell_type": "markdown",
   "metadata": {},
   "source": [
    "4. Below are probabilities an event will not happen. Find the probability that they will happen for \n",
    "each (find the compliment of each event): \n",
    "a. 0.95 , 0.05\n",
    "b. 0.13 , 0.87\n",
    "c. 3/4, 1/4 \n",
    "d. 21/61, 40/61\n",
    "\n",
    "(Law of total probability)"
   ]
  },
  {
   "cell_type": "markdown",
   "metadata": {},
   "source": [
    "# Question 5"
   ]
  },
  {
   "cell_type": "markdown",
   "metadata": {},
   "source": [
    "Five hundred employees were selected from a city’s large private companies, and they were \n",
    "asked whether or not they have retirement benefits. Based on their answers the following table \n",
    "was prepared: \n",
    "\n",
    "HAS BENEFITS DOES NOT HAVE BENEFITS \n",
    "MALE 225 75 \n",
    "FEMALE 150 50 \n",
    " \n",
    "If one employee is selected at random from these 500 employees, find the probability that this \n",
    "employee: \n",
    "a. Is a woman = 200/500\n",
    "b. Has retirement benefits 375/500\n",
    "c. Has retirement benefits given that the employee is a man \n",
    "\n",
    "\n",
    "P(A | B) = P(B | A) * P(A) / P(B)\n",
    "\n",
    "\n",
    "\n",
    "C = 225/300\n",
    "\n",
    "\n",
    "\n",
    "\n",
    "\n",
    "prob_of_male = 300/500\n",
    "225  P(A)\n",
    "/300 P(B)\n",
    "\n",
    "If Independent: P(A & B) = P(B | A) * P(A)\n",
    "\n",
    "\n",
    "\n",
    "d. Is a woman given that she does not have retirement benefits \n",
    "\n",
    "\n",
    "\n",
    "d=      50 / 125\n",
    "\n",
    "  - # of women that do not have benefits / total people that do not have benefits."
   ]
  },
  {
   "cell_type": "markdown",
   "metadata": {},
   "source": []
  },
  {
   "cell_type": "markdown",
   "metadata": {},
   "source": [
    "6. The distribution of blood types varies among groups of people. Here is the distribution of blood \n",
    "types for a randomly chosen person in the United States: \n",
    "Blood Type        O    A    B   AB \n",
    "U.S. probability 0.45 0.40 0.11 ? \n",
    " \n",
    "a. What is the probability of type AB blood in the U.S.? \n",
    "b. Maria has type B blood. She can safely receive blood transfusions from people with \n",
    "blood types O and B. What is the probability that a randomly chosen American can \n",
    "donate blood to Maria?"
   ]
  },
  {
   "cell_type": "code",
   "execution_count": 4,
   "metadata": {},
   "outputs": [
    {
     "data": {
      "text/plain": [
       "0.04000000000000002"
      ]
     },
     "execution_count": 4,
     "metadata": {},
     "output_type": "execute_result"
    }
   ],
   "source": [
    "ab = 1-.45-.4-.11\n",
    "ab"
   ]
  },
  {
   "cell_type": "code",
   "execution_count": null,
   "metadata": {},
   "outputs": [],
   "source": [
    "b = 0.45 + .16"
   ]
  },
  {
   "cell_type": "markdown",
   "metadata": {},
   "source": [
    "# Question 7"
   ]
  },
  {
   "cell_type": "markdown",
   "metadata": {},
   "source": [
    "7. Choose a young adult at random. The probability is 0.12 that the person chosen did not complete \n",
    "high school, 0.31 that the person has a high school diploma but no further education, and 0.29 \n",
    "that the person has at least a bachelor’s degree.  \n",
    " \n",
    "a. What is the probability that a randomly chosen young adult has some education beyond \n",
    "high school but does not have a bachelor’s degree? \n",
    "b. What is the probability that a randomly chosen young adult has at least a high school \n",
    "education? "
   ]
  },
  {
   "cell_type": "code",
   "execution_count": 5,
   "metadata": {},
   "outputs": [
    {
     "data": {
      "text/plain": [
       "0.2800000000000001"
      ]
     },
     "execution_count": 5,
     "metadata": {},
     "output_type": "execute_result"
    }
   ],
   "source": [
    "a = 1-.12-.31-.29\n",
    "a"
   ]
  },
  {
   "cell_type": "code",
   "execution_count": 6,
   "metadata": {},
   "outputs": [
    {
     "data": {
      "text/plain": [
       "0.8800000000000001"
      ]
     },
     "execution_count": 6,
     "metadata": {},
     "output_type": "execute_result"
    }
   ],
   "source": [
    "b = 0.29+0.28+0.31\n",
    "b\n"
   ]
  },
  {
   "cell_type": "markdown",
   "metadata": {},
   "source": [
    "# Question 8"
   ]
  },
  {
   "cell_type": "code",
   "execution_count": null,
   "metadata": {},
   "outputs": [],
   "source": [
    "8. In a sample of 1446 U.S. registered voters, 217 said that John Kennedy was the best president \n",
    "since World War II. Two registered voters are selected at random without replacement. \n",
    "\n",
    "a. Find the probability that both registered voters say that John Kennedy was the best \n",
    "president since World War II. \n",
    "b. Find the probability that neither registered voters say that John Kennedy was the best \n",
    "president since World War II. \n",
    "c. Find the probability that at least one of the two registered voters say that John Kennedy \n",
    "was the best president since World War II."
   ]
  },
  {
   "cell_type": "code",
   "execution_count": 8,
   "metadata": {},
   "outputs": [
    {
     "data": {
      "text/plain": [
       "0.022432482878433285"
      ]
     },
     "execution_count": 8,
     "metadata": {},
     "output_type": "execute_result"
    }
   ],
   "source": [
    "# a.\n",
    "reg_voter_1 = 217/1446\n",
    "reg_voter_2 = 216/1445\n",
    "\n",
    "both_kennedy = reg_voter_1 * reg_voter_2\n",
    "both_kennedy"
   ]
  },
  {
   "cell_type": "code",
   "execution_count": 9,
   "metadata": {},
   "outputs": [
    {
     "data": {
      "text/plain": [
       "0.7228823577270791"
      ]
     },
     "execution_count": 9,
     "metadata": {},
     "output_type": "execute_result"
    }
   ],
   "source": [
    "# b (neither thinks kennedy was the best)\n",
    "\n",
    "nk1 = (1446-217)/1446\n",
    "nk2 = (1445-216)/1445\n",
    "\n",
    "neither_kennedy = nk1 * nk2\n",
    "neither_kennedy\n"
   ]
  },
  {
   "cell_type": "code",
   "execution_count": 15,
   "metadata": {},
   "outputs": [
    {
     "data": {
      "text/plain": [
       "0.27770582970801205"
      ]
     },
     "execution_count": 15,
     "metadata": {},
     "output_type": "execute_result"
    }
   ],
   "source": [
    "c = ((217/1446) * (216/1445) ) + ((217/1446) * ((1445-216)/1445)) + (((1446-217)/1446) * (217/1445))\n",
    "c"
   ]
  },
  {
   "cell_type": "code",
   "execution_count": null,
   "metadata": {},
   "outputs": [],
   "source": []
  },
  {
   "cell_type": "code",
   "execution_count": null,
   "metadata": {},
   "outputs": [],
   "source": []
  }
 ],
 "metadata": {
  "kernelspec": {
   "display_name": "Python (learn-env)",
   "language": "python",
   "name": "learn-env"
  },
  "language_info": {
   "codemirror_mode": {
    "name": "ipython",
    "version": 3
   },
   "file_extension": ".py",
   "mimetype": "text/x-python",
   "name": "python",
   "nbconvert_exporter": "python",
   "pygments_lexer": "ipython3",
   "version": "3.8.5"
  }
 },
 "nbformat": 4,
 "nbformat_minor": 4
}
